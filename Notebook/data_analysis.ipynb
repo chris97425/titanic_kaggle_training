{
 "cells": [
  {
   "cell_type": "markdown",
   "metadata": {},
   "source": [
    "# Titanic Dataset"
   ]
  },
  {
   "cell_type": "markdown",
   "metadata": {},
   "source": [
    "## Chapter 1 - EDA "
   ]
  },
  {
   "cell_type": "markdown",
   "metadata": {},
   "source": [
    "The goal 🎯 of this jupyter Notebook is to explore different machine learning or deep learning algorithms in order to obtain an accuracy score higher than 85% in the prediction of the people who survived or not in the titanic accident. Link to the exercise:\n",
    "- [Link]([Link](https://www.kaggle.com/c/titanic))"
   ]
  },
  {
   "cell_type": "markdown",
   "metadata": {},
   "source": [
    "### Needed library"
   ]
  },
  {
   "cell_type": "code",
   "execution_count": 1,
   "metadata": {},
   "outputs": [],
   "source": [
    "#Pandas to work with Dataframe and numpy for array (np)\n",
    "import pandas as pd\n",
    "import numpy as np\n",
    "\n",
    "#Seaborn and matplotlib for dataviz\n",
    "import seaborn as sns\n",
    "import matplotlib.pyplot as plt\n",
    "\n",
    "#Machine learning library to make prediction, features transformation and results analysis\n",
    "from sklearn.model_selection import cross_validate\n",
    "from sklearn.linear_model import LogisticRegression\n",
    "from sklearn.model_selection import train_test_split\n",
    "from sklearn.model_selection import learning_curve\n",
    "from sklearn.preprocessing import OneHotEncoder\n",
    "from sklearn.preprocessing import RobustScaler\n",
    "from sklearn.metrics import confusion_matrix\n",
    "from sklearn.metrics import classification_report\n",
    "from sklearn.model_selection import learning_curve\n",
    "\n",
    "# Tensorflow for Deep learning\n",
    "from tensorflow.keras.callbacks import EarlyStopping\n",
    "from tensorflow.keras import layers\n",
    "from tensorflow.keras import models\n",
    "\n",
    "#Import utils methods\n",
    "import sys\n",
    "sys.path.append('..')\n",
    "from Function.utils import get_title\n",
    "from Function.utils import class_of_people_by_age_sex\n",
    "\n",
    "#Robust scaling\n",
    "from sklearn.preprocessing import StandardScaler\n"
   ]
  },
  {
   "cell_type": "code",
   "execution_count": 2,
   "metadata": {},
   "outputs": [],
   "source": [
    "%load_ext autoreload\n",
    "%autoreload 2"
   ]
  },
  {
   "cell_type": "markdown",
   "metadata": {},
   "source": [
    "### Dataset Information"
   ]
  },
  {
   "cell_type": "code",
   "execution_count": 3,
   "metadata": {},
   "outputs": [
    {
     "data": {
      "text/html": [
       "<div>\n",
       "<style scoped>\n",
       "    .dataframe tbody tr th:only-of-type {\n",
       "        vertical-align: middle;\n",
       "    }\n",
       "\n",
       "    .dataframe tbody tr th {\n",
       "        vertical-align: top;\n",
       "    }\n",
       "\n",
       "    .dataframe thead th {\n",
       "        text-align: right;\n",
       "    }\n",
       "</style>\n",
       "<table border=\"1\" class=\"dataframe\">\n",
       "  <thead>\n",
       "    <tr style=\"text-align: right;\">\n",
       "      <th></th>\n",
       "      <th>PassengerId</th>\n",
       "      <th>Survived</th>\n",
       "      <th>Pclass</th>\n",
       "      <th>Name</th>\n",
       "      <th>Sex</th>\n",
       "      <th>Age</th>\n",
       "      <th>SibSp</th>\n",
       "      <th>Parch</th>\n",
       "      <th>Ticket</th>\n",
       "      <th>Fare</th>\n",
       "      <th>Cabin</th>\n",
       "      <th>Embarked</th>\n",
       "    </tr>\n",
       "  </thead>\n",
       "  <tbody>\n",
       "    <tr>\n",
       "      <th>0</th>\n",
       "      <td>1</td>\n",
       "      <td>0</td>\n",
       "      <td>3</td>\n",
       "      <td>Braund, Mr. Owen Harris</td>\n",
       "      <td>male</td>\n",
       "      <td>22.0</td>\n",
       "      <td>1</td>\n",
       "      <td>0</td>\n",
       "      <td>A/5 21171</td>\n",
       "      <td>7.2500</td>\n",
       "      <td>NaN</td>\n",
       "      <td>S</td>\n",
       "    </tr>\n",
       "    <tr>\n",
       "      <th>1</th>\n",
       "      <td>2</td>\n",
       "      <td>1</td>\n",
       "      <td>1</td>\n",
       "      <td>Cumings, Mrs. John Bradley (Florence Briggs Th...</td>\n",
       "      <td>female</td>\n",
       "      <td>38.0</td>\n",
       "      <td>1</td>\n",
       "      <td>0</td>\n",
       "      <td>PC 17599</td>\n",
       "      <td>71.2833</td>\n",
       "      <td>C85</td>\n",
       "      <td>C</td>\n",
       "    </tr>\n",
       "    <tr>\n",
       "      <th>2</th>\n",
       "      <td>3</td>\n",
       "      <td>1</td>\n",
       "      <td>3</td>\n",
       "      <td>Heikkinen, Miss. Laina</td>\n",
       "      <td>female</td>\n",
       "      <td>26.0</td>\n",
       "      <td>0</td>\n",
       "      <td>0</td>\n",
       "      <td>STON/O2. 3101282</td>\n",
       "      <td>7.9250</td>\n",
       "      <td>NaN</td>\n",
       "      <td>S</td>\n",
       "    </tr>\n",
       "    <tr>\n",
       "      <th>3</th>\n",
       "      <td>4</td>\n",
       "      <td>1</td>\n",
       "      <td>1</td>\n",
       "      <td>Futrelle, Mrs. Jacques Heath (Lily May Peel)</td>\n",
       "      <td>female</td>\n",
       "      <td>35.0</td>\n",
       "      <td>1</td>\n",
       "      <td>0</td>\n",
       "      <td>113803</td>\n",
       "      <td>53.1000</td>\n",
       "      <td>C123</td>\n",
       "      <td>S</td>\n",
       "    </tr>\n",
       "    <tr>\n",
       "      <th>4</th>\n",
       "      <td>5</td>\n",
       "      <td>0</td>\n",
       "      <td>3</td>\n",
       "      <td>Allen, Mr. William Henry</td>\n",
       "      <td>male</td>\n",
       "      <td>35.0</td>\n",
       "      <td>0</td>\n",
       "      <td>0</td>\n",
       "      <td>373450</td>\n",
       "      <td>8.0500</td>\n",
       "      <td>NaN</td>\n",
       "      <td>S</td>\n",
       "    </tr>\n",
       "  </tbody>\n",
       "</table>\n",
       "</div>"
      ],
      "text/plain": [
       "   PassengerId  Survived  Pclass  \\\n",
       "0            1         0       3   \n",
       "1            2         1       1   \n",
       "2            3         1       3   \n",
       "3            4         1       1   \n",
       "4            5         0       3   \n",
       "\n",
       "                                                Name     Sex   Age  SibSp  \\\n",
       "0                            Braund, Mr. Owen Harris    male  22.0      1   \n",
       "1  Cumings, Mrs. John Bradley (Florence Briggs Th...  female  38.0      1   \n",
       "2                             Heikkinen, Miss. Laina  female  26.0      0   \n",
       "3       Futrelle, Mrs. Jacques Heath (Lily May Peel)  female  35.0      1   \n",
       "4                           Allen, Mr. William Henry    male  35.0      0   \n",
       "\n",
       "   Parch            Ticket     Fare Cabin Embarked  \n",
       "0      0         A/5 21171   7.2500   NaN        S  \n",
       "1      0          PC 17599  71.2833   C85        C  \n",
       "2      0  STON/O2. 3101282   7.9250   NaN        S  \n",
       "3      0            113803  53.1000  C123        S  \n",
       "4      0            373450   8.0500   NaN        S  "
      ]
     },
     "execution_count": 3,
     "metadata": {},
     "output_type": "execute_result"
    }
   ],
   "source": [
    "# Load dataset\n",
    "titanic_df = pd.read_csv(\"../Data/train.csv\")\n",
    "# Show Dataset first line\n",
    "titanic_df.head()"
   ]
  },
  {
   "cell_type": "markdown",
   "metadata": {},
   "source": [
    "To check the description of different fields in this dataset :\n",
    ">[Kaggle description of the dataset Link](https://www.kaggle.com/competitions/titanic/data)\n"
   ]
  },
  {
   "cell_type": "code",
   "execution_count": 4,
   "metadata": {},
   "outputs": [
    {
     "data": {
      "text/html": [
       "<div>\n",
       "<style scoped>\n",
       "    .dataframe tbody tr th:only-of-type {\n",
       "        vertical-align: middle;\n",
       "    }\n",
       "\n",
       "    .dataframe tbody tr th {\n",
       "        vertical-align: top;\n",
       "    }\n",
       "\n",
       "    .dataframe thead th {\n",
       "        text-align: right;\n",
       "    }\n",
       "</style>\n",
       "<table border=\"1\" class=\"dataframe\">\n",
       "  <thead>\n",
       "    <tr style=\"text-align: right;\">\n",
       "      <th></th>\n",
       "      <th>Survived</th>\n",
       "      <th>Pclass</th>\n",
       "      <th>Age</th>\n",
       "      <th>SibSp</th>\n",
       "      <th>Parch</th>\n",
       "      <th>Fare</th>\n",
       "    </tr>\n",
       "  </thead>\n",
       "  <tbody>\n",
       "    <tr>\n",
       "      <th>count</th>\n",
       "      <td>891.000000</td>\n",
       "      <td>891.000000</td>\n",
       "      <td>714.000000</td>\n",
       "      <td>891.000000</td>\n",
       "      <td>891.000000</td>\n",
       "      <td>891.000000</td>\n",
       "    </tr>\n",
       "    <tr>\n",
       "      <th>mean</th>\n",
       "      <td>0.383838</td>\n",
       "      <td>2.308642</td>\n",
       "      <td>29.699118</td>\n",
       "      <td>0.523008</td>\n",
       "      <td>0.381594</td>\n",
       "      <td>32.204208</td>\n",
       "    </tr>\n",
       "    <tr>\n",
       "      <th>std</th>\n",
       "      <td>0.486592</td>\n",
       "      <td>0.836071</td>\n",
       "      <td>14.526497</td>\n",
       "      <td>1.102743</td>\n",
       "      <td>0.806057</td>\n",
       "      <td>49.693429</td>\n",
       "    </tr>\n",
       "    <tr>\n",
       "      <th>min</th>\n",
       "      <td>0.000000</td>\n",
       "      <td>1.000000</td>\n",
       "      <td>0.420000</td>\n",
       "      <td>0.000000</td>\n",
       "      <td>0.000000</td>\n",
       "      <td>0.000000</td>\n",
       "    </tr>\n",
       "    <tr>\n",
       "      <th>25%</th>\n",
       "      <td>0.000000</td>\n",
       "      <td>2.000000</td>\n",
       "      <td>20.125000</td>\n",
       "      <td>0.000000</td>\n",
       "      <td>0.000000</td>\n",
       "      <td>7.910400</td>\n",
       "    </tr>\n",
       "    <tr>\n",
       "      <th>50%</th>\n",
       "      <td>0.000000</td>\n",
       "      <td>3.000000</td>\n",
       "      <td>28.000000</td>\n",
       "      <td>0.000000</td>\n",
       "      <td>0.000000</td>\n",
       "      <td>14.454200</td>\n",
       "    </tr>\n",
       "    <tr>\n",
       "      <th>75%</th>\n",
       "      <td>1.000000</td>\n",
       "      <td>3.000000</td>\n",
       "      <td>38.000000</td>\n",
       "      <td>1.000000</td>\n",
       "      <td>0.000000</td>\n",
       "      <td>31.000000</td>\n",
       "    </tr>\n",
       "    <tr>\n",
       "      <th>max</th>\n",
       "      <td>1.000000</td>\n",
       "      <td>3.000000</td>\n",
       "      <td>80.000000</td>\n",
       "      <td>8.000000</td>\n",
       "      <td>6.000000</td>\n",
       "      <td>512.329200</td>\n",
       "    </tr>\n",
       "  </tbody>\n",
       "</table>\n",
       "</div>"
      ],
      "text/plain": [
       "         Survived      Pclass         Age       SibSp       Parch        Fare\n",
       "count  891.000000  891.000000  714.000000  891.000000  891.000000  891.000000\n",
       "mean     0.383838    2.308642   29.699118    0.523008    0.381594   32.204208\n",
       "std      0.486592    0.836071   14.526497    1.102743    0.806057   49.693429\n",
       "min      0.000000    1.000000    0.420000    0.000000    0.000000    0.000000\n",
       "25%      0.000000    2.000000   20.125000    0.000000    0.000000    7.910400\n",
       "50%      0.000000    3.000000   28.000000    0.000000    0.000000   14.454200\n",
       "75%      1.000000    3.000000   38.000000    1.000000    0.000000   31.000000\n",
       "max      1.000000    3.000000   80.000000    8.000000    6.000000  512.329200"
      ]
     },
     "execution_count": 4,
     "metadata": {},
     "output_type": "execute_result"
    }
   ],
   "source": [
    "# Describe data and get different information from this dataset with describe\n",
    "titanic_describe = titanic_df.loc[:, titanic_df.columns != \"PassengerId\"].describe()\n",
    "titanic_describe"
   ]
  },
  {
   "cell_type": "markdown",
   "metadata": {},
   "source": [
    "### Deal 🥦 with missing values"
   ]
  },
  {
   "cell_type": "code",
   "execution_count": 5,
   "metadata": {},
   "outputs": [
    {
     "name": "stdout",
     "output_type": "stream",
     "text": [
      "PassengerId as 0 nan values\n",
      "Survived as 0 nan values\n",
      "Pclass as 0 nan values\n",
      "Name as 0 nan values\n",
      "Sex as 0 nan values\n",
      "Age as 177 nan values\n",
      "SibSp as 0 nan values\n",
      "Parch as 0 nan values\n",
      "Ticket as 0 nan values\n",
      "Fare as 0 nan values\n",
      "Cabin as 687 nan values\n",
      "Embarked as 2 nan values\n"
     ]
    }
   ],
   "source": [
    "# Check the nan value in the dataset\n",
    "for column in titanic_df.columns:\n",
    "    print(f\"{column} as {titanic_df[column].isnull().sum()} nan values\")"
   ]
  },
  {
   "cell_type": "markdown",
   "metadata": {},
   "source": [
    "As we can see, Age, Cabin and Embarked have Nan value. \n"
   ]
  },
  {
   "cell_type": "markdown",
   "metadata": {},
   "source": [
    "\n",
    "#### Work with age feature\n",
    "We can check if age feature as a good correlation with the survived features."
   ]
  },
  {
   "cell_type": "code",
   "execution_count": 6,
   "metadata": {},
   "outputs": [
    {
     "data": {
      "text/html": [
       "<div>\n",
       "<style scoped>\n",
       "    .dataframe tbody tr th:only-of-type {\n",
       "        vertical-align: middle;\n",
       "    }\n",
       "\n",
       "    .dataframe tbody tr th {\n",
       "        vertical-align: top;\n",
       "    }\n",
       "\n",
       "    .dataframe thead th {\n",
       "        text-align: right;\n",
       "    }\n",
       "</style>\n",
       "<table border=\"1\" class=\"dataframe\">\n",
       "  <thead>\n",
       "    <tr style=\"text-align: right;\">\n",
       "      <th></th>\n",
       "      <th>Survived</th>\n",
       "      <th>Age</th>\n",
       "    </tr>\n",
       "  </thead>\n",
       "  <tbody>\n",
       "    <tr>\n",
       "      <th>Survived</th>\n",
       "      <td>1.000000</td>\n",
       "      <td>-0.077221</td>\n",
       "    </tr>\n",
       "    <tr>\n",
       "      <th>Age</th>\n",
       "      <td>-0.077221</td>\n",
       "      <td>1.000000</td>\n",
       "    </tr>\n",
       "  </tbody>\n",
       "</table>\n",
       "</div>"
      ],
      "text/plain": [
       "          Survived       Age\n",
       "Survived  1.000000 -0.077221\n",
       "Age      -0.077221  1.000000"
      ]
     },
     "execution_count": 6,
     "metadata": {},
     "output_type": "execute_result"
    }
   ],
   "source": [
    "# Get the importance of the Age features for the prediction of  Survived \n",
    "titanic_df[[\"Survived\",\"Age\"]].corr(method=\"pearson\")"
   ]
  },
  {
   "cell_type": "markdown",
   "metadata": {},
   "source": [
    "This table tell us that we are a decrease correlation of 7% between Survived and Age 🙌🏼. \n",
    "\n",
    "Maybe we can use this  features in our futur model. But we have 177 missing features.\n",
    "\n",
    "We can explore different strategies for the age feature: \n",
    "1. Fill age nan values by the mean or the median of the age distribution\n",
    "2. Drop all nan values but the dataset is small and 177 rows is a lot in this context\n",
    "3. Maybe try to find classes in age for who survived the most\n",
    "4. Delete the age features\n",
    "\n",
    "I decide to apply the first and third strategy"
   ]
  },
  {
   "cell_type": "markdown",
   "metadata": {},
   "source": [
    "Let's see the Distribution of age by sex:"
   ]
  },
  {
   "cell_type": "code",
   "execution_count": 179,
   "metadata": {},
   "outputs": [
    {
     "data": {
      "text/plain": [
       "[Text(0.5, 1.0, 'Age By Sex')]"
      ]
     },
     "execution_count": 179,
     "metadata": {},
     "output_type": "execute_result"
    },
    {
     "data": {
      "image/png": "[encoded data removed]",
      "text/plain": [
       "<Figure size 1440x288 with 1 Axes>"
      ]
     },
     "metadata": {
      "needs_background": "light"
     },
     "output_type": "display_data"
    }
   ],
   "source": [
    "fig, ax1 = plt.subplots(1, 1,  figsize=(20,4))\n",
    "sns.histplot(ax=ax1,data=titanic_df,x=\"Age\", hue=\"Sex\",multiple=\"stack\",bins=90, kde=True)\\\n",
    "    .set(title=\"Age By Sex\")"
   ]
  },
  {
   "cell_type": "markdown",
   "metadata": {},
   "source": [
    "We can see in this dataset, male is more present than woman. let's check the survirval rate by age and by sex:"
   ]
  },
  {
   "cell_type": "code",
   "execution_count": 9,
   "metadata": {},
   "outputs": [
    {
     "data": {
      "image/png": "[encoded data removed]",
      "text/plain": [
       "<Figure size 2160x360 with 2 Axes>"
      ]
     },
     "metadata": {
      "needs_background": "light"
     },
     "output_type": "display_data"
    }
   ],
   "source": [
    "#Show the survival rate by ages and sex of the population\n",
    "ax = sns.catplot(x=\"Age\",y=\"Survived\",col=\"Sex\",data=titanic_df\n",
    "    , kind=\"bar\", ci=None, aspect=3)\n",
    "#Rotate X labels for a better readability\n",
    "for axes in ax.axes.flat:\n",
    "    _ = axes.set_xticklabels(axes.get_xticklabels(), rotation=-60)"
   ]
  },
  {
   "cell_type": "markdown",
   "metadata": {},
   "source": [
    "The last graphics can tell us: \n",
    "1. Sex is more related with people who survive or not\n",
    "2. Woman as a higher survived rate independently of the age compared to men \n",
    "3. Old woman seems to survived every time ? 🤷🏽‍♀️ (Look like)\n",
    "4. Maybe children (age < 14) as a better survived than adult \n",
    "\n",
    "We can try to create two news features: \n",
    "1. is_children for peoples with age <=14\n",
    "2. after_fifty only for woman with ages >= 50\n",
    "\n",
    "But now return to our problem the missing values 🎯\n",
    "\n",
    "➡️ For this exploration i try to use the median of the age feature to fill nan value. \n"
   ]
  },
  {
   "cell_type": "code",
   "execution_count": 7,
   "metadata": {},
   "outputs": [],
   "source": [
    "# Fill nan value by the median of the age distribution\n",
    "titanic_df[\"Age\"] = titanic_df[\"Age\"].fillna(titanic_df[\"Age\"].median()).astype(\"int\")"
   ]
  },
  {
   "cell_type": "markdown",
   "metadata": {},
   "source": [
    "Off course, now we have 177 people with an age of 28 (the median). These peoples didn't enter in the news categories children and woman that i want to create"
   ]
  },
  {
   "cell_type": "markdown",
   "metadata": {},
   "source": [
    "#### Work with Cabin feature\n"
   ]
  },
  {
   "cell_type": "markdown",
   "metadata": {},
   "source": [
    "\n",
    "Also for Cabin, we have a lot of missing value, more than 50% of the dataset we can:\n",
    "1. Drop the Cabin features \n",
    "2. Create two categories one for missing value on for existing value. Here we considering missing value as a category,using no information as an information.\n",
    "\n",
    "Try the second strategy\n",
    "   "
   ]
  },
  {
   "cell_type": "code",
   "execution_count": 8,
   "metadata": {},
   "outputs": [],
   "source": [
    "# Convert Cabin in a binary problem\n",
    "titanic_df[\"Cabin_binary\"]=titanic_df.apply(lambda x: 0 if pd.isnull(x.Cabin)  else 1, axis=1)"
   ]
  },
  {
   "cell_type": "code",
   "execution_count": 9,
   "metadata": {},
   "outputs": [
    {
     "data": {
      "text/html": [
       "<div>\n",
       "<style scoped>\n",
       "    .dataframe tbody tr th:only-of-type {\n",
       "        vertical-align: middle;\n",
       "    }\n",
       "\n",
       "    .dataframe tbody tr th {\n",
       "        vertical-align: top;\n",
       "    }\n",
       "\n",
       "    .dataframe thead th {\n",
       "        text-align: right;\n",
       "    }\n",
       "</style>\n",
       "<table border=\"1\" class=\"dataframe\">\n",
       "  <thead>\n",
       "    <tr style=\"text-align: right;\">\n",
       "      <th></th>\n",
       "      <th>Cabin_binary</th>\n",
       "      <th>Cabin</th>\n",
       "    </tr>\n",
       "  </thead>\n",
       "  <tbody>\n",
       "    <tr>\n",
       "      <th>0</th>\n",
       "      <td>0</td>\n",
       "      <td>NaN</td>\n",
       "    </tr>\n",
       "    <tr>\n",
       "      <th>1</th>\n",
       "      <td>1</td>\n",
       "      <td>C85</td>\n",
       "    </tr>\n",
       "    <tr>\n",
       "      <th>2</th>\n",
       "      <td>0</td>\n",
       "      <td>NaN</td>\n",
       "    </tr>\n",
       "    <tr>\n",
       "      <th>3</th>\n",
       "      <td>1</td>\n",
       "      <td>C123</td>\n",
       "    </tr>\n",
       "    <tr>\n",
       "      <th>4</th>\n",
       "      <td>0</td>\n",
       "      <td>NaN</td>\n",
       "    </tr>\n",
       "  </tbody>\n",
       "</table>\n",
       "</div>"
      ],
      "text/plain": [
       "   Cabin_binary Cabin\n",
       "0             0   NaN\n",
       "1             1   C85\n",
       "2             0   NaN\n",
       "3             1  C123\n",
       "4             0   NaN"
      ]
     },
     "execution_count": 9,
     "metadata": {},
     "output_type": "execute_result"
    }
   ],
   "source": [
    "#Check if it's ok\n",
    "titanic_df[[\"Cabin_binary\",\"Cabin\"]].head(5)"
   ]
  },
  {
   "cell_type": "code",
   "execution_count": 10,
   "metadata": {},
   "outputs": [
    {
     "data": {
      "image/png": "[encoded data removed]",
      "text/plain": [
       "<Figure size 360x360 with 1 Axes>"
      ]
     },
     "metadata": {
      "needs_background": "light"
     },
     "output_type": "display_data"
    }
   ],
   "source": [
    "#Check the survived rate of people with Cabin information and without cabin information\n",
    "ax = sns.catplot(x=\"Cabin_binary\",y=\"Survived\",data=titanic_df\n",
    "    , kind=\"bar\", ci=None, aspect=1).set(title=\"Cabin survival Rate\")"
   ]
  },
  {
   "cell_type": "code",
   "execution_count": 11,
   "metadata": {},
   "outputs": [
    {
     "data": {
      "text/html": [
       "<div>\n",
       "<style scoped>\n",
       "    .dataframe tbody tr th:only-of-type {\n",
       "        vertical-align: middle;\n",
       "    }\n",
       "\n",
       "    .dataframe tbody tr th {\n",
       "        vertical-align: top;\n",
       "    }\n",
       "\n",
       "    .dataframe thead th {\n",
       "        text-align: right;\n",
       "    }\n",
       "</style>\n",
       "<table border=\"1\" class=\"dataframe\">\n",
       "  <thead>\n",
       "    <tr style=\"text-align: right;\">\n",
       "      <th></th>\n",
       "      <th>Survived</th>\n",
       "      <th>Cabin_binary</th>\n",
       "    </tr>\n",
       "  </thead>\n",
       "  <tbody>\n",
       "    <tr>\n",
       "      <th>Survived</th>\n",
       "      <td>1.000000</td>\n",
       "      <td>0.316912</td>\n",
       "    </tr>\n",
       "    <tr>\n",
       "      <th>Cabin_binary</th>\n",
       "      <td>0.316912</td>\n",
       "      <td>1.000000</td>\n",
       "    </tr>\n",
       "  </tbody>\n",
       "</table>\n",
       "</div>"
      ],
      "text/plain": [
       "              Survived  Cabin_binary\n",
       "Survived      1.000000      0.316912\n",
       "Cabin_binary  0.316912      1.000000"
      ]
     },
     "execution_count": 11,
     "metadata": {},
     "output_type": "execute_result"
    }
   ],
   "source": [
    "# Get the importance of the Cabin_binary features for the prediction of  Survived \n",
    "titanic_df[[\"Survived\",\"Cabin_binary\"]].corr(method=\"pearson\")"
   ]
  },
  {
   "cell_type": "markdown",
   "metadata": {},
   "source": [
    "With a good score of 31% we can say that the correlation it's important between this new feature and Survived column"
   ]
  },
  {
   "cell_type": "code",
   "execution_count": 12,
   "metadata": {},
   "outputs": [],
   "source": [
    "#Drop Cabin column\n",
    "titanic_df.drop(\"Cabin\", inplace=True,axis=1)"
   ]
  },
  {
   "cell_type": "markdown",
   "metadata": {},
   "source": [
    "#### Work with Embarked feature\n"
   ]
  },
  {
   "cell_type": "code",
   "execution_count": 13,
   "metadata": {},
   "outputs": [
    {
     "data": {
      "text/plain": [
       "Embarked\n",
       "S           644\n",
       "C           168\n",
       "Q            77\n",
       "dtype: int64"
      ]
     },
     "execution_count": 13,
     "metadata": {},
     "output_type": "execute_result"
    }
   ],
   "source": [
    "#Count different value in Embarked features\n",
    "titanic_df[[\"Embarked\"]].value_counts()"
   ]
  },
  {
   "cell_type": "code",
   "execution_count": 14,
   "metadata": {},
   "outputs": [
    {
     "data": {
      "image/png": "[encoded data removed]",
      "text/plain": [
       "<Figure size 430.5x360 with 1 Axes>"
      ]
     },
     "metadata": {
      "needs_background": "light"
     },
     "output_type": "display_data"
    }
   ],
   "source": [
    "ax = sns.catplot(x=\"Embarked\",y=\"Survived\",hue=\"Sex\",data=titanic_df\n",
    "    , kind=\"bar\", ci=None, aspect=1)"
   ]
  },
  {
   "cell_type": "markdown",
   "metadata": {},
   "source": [
    "Dependent of the sex, we can see Embarked at C can give 10 to 15 % chance to survived compared to S and Q. Here for only 2 missings value we can drop these rows.\n"
   ]
  },
  {
   "cell_type": "code",
   "execution_count": 16,
   "metadata": {},
   "outputs": [],
   "source": [
    "titanic_df = titanic_df[titanic_df['Embarked'].notna()]"
   ]
  },
  {
   "cell_type": "markdown",
   "metadata": {},
   "source": [
    "### Features transformation"
   ]
  },
  {
   "cell_type": "markdown",
   "metadata": {},
   "source": [
    "#### One Hot encoding categorical Data"
   ]
  },
  {
   "cell_type": "markdown",
   "metadata": {},
   "source": [
    "We can see here that we have several categorical features:\n",
    "- Survived > Binary class (0,1)\n",
    "- Pclass > No Binary class (1,2,3)\n",
    "- Sex > No Binary class (male, female) but easy to translate\n",
    "- Maybe titles of names ? \n",
    "- Embarked > No Binary class (S, C, Q)\n",
    "- Age maybe ? \n",
    "\n",
    "For this type of data we can use a one hot encoder to convert no binary class in multiple binary class.\n",
    "\n",
    "> [Scikit Learn documentation about one hot encoding](https://scikit-learn.org/stable/modules/generated/sklearn.preprocessing.OneHotEncoder.html)\n",
    "\n",
    "\n",
    "    "
   ]
  },
  {
   "cell_type": "markdown",
   "metadata": {},
   "source": [
    "#### Convert Male female in binary class"
   ]
  },
  {
   "cell_type": "code",
   "execution_count": 17,
   "metadata": {},
   "outputs": [],
   "source": [
    "# Transform Sex features in sex_binary, 0 if it's a male 1 if it's female\n",
    "titanic_df[\"sex_binary\"] = titanic_df[\"Sex\"].apply(lambda x: 0 if x == \"male\" else 1)\n",
    "\n",
    "# Drop old Sex columns \n",
    "# titanic_df.drop(columns=\"Sex\", inplace=True)"
   ]
  },
  {
   "cell_type": "markdown",
   "metadata": {},
   "source": [
    "#### Convert Pclass in binary class"
   ]
  },
  {
   "cell_type": "code",
   "execution_count": 18,
   "metadata": {},
   "outputs": [],
   "source": [
    "# Declare an One Hot encoding object\n",
    "ohe = OneHotEncoder(handle_unknown='ignore')\n",
    "#Fit and transform on the Pclass features\n",
    "encode_df = pd.DataFrame(ohe.fit_transform(titanic_df[[\"Pclass\"]]).toarray())\n",
    "#Get the columns names out of the news features (construct like names_of_old_features_className)\n",
    "encode_df.columns = ohe.get_feature_names_out()\n",
    "#Join news features with the titanic dataframe\n",
    "titanic_df = titanic_df.join(encode_df)\n",
    "\n",
    "#Drop old Pclass column\n",
    "titanic_df.drop(columns=\"Pclass\", inplace=True)"
   ]
  },
  {
   "cell_type": "code",
   "execution_count": 19,
   "metadata": {},
   "outputs": [
    {
     "data": {
      "text/html": [
       "<div>\n",
       "<style scoped>\n",
       "    .dataframe tbody tr th:only-of-type {\n",
       "        vertical-align: middle;\n",
       "    }\n",
       "\n",
       "    .dataframe tbody tr th {\n",
       "        vertical-align: top;\n",
       "    }\n",
       "\n",
       "    .dataframe thead th {\n",
       "        text-align: right;\n",
       "    }\n",
       "</style>\n",
       "<table border=\"1\" class=\"dataframe\">\n",
       "  <thead>\n",
       "    <tr style=\"text-align: right;\">\n",
       "      <th></th>\n",
       "      <th>PassengerId</th>\n",
       "      <th>Survived</th>\n",
       "      <th>Name</th>\n",
       "      <th>Sex</th>\n",
       "      <th>Age</th>\n",
       "      <th>SibSp</th>\n",
       "      <th>Parch</th>\n",
       "      <th>Ticket</th>\n",
       "      <th>Fare</th>\n",
       "      <th>Embarked</th>\n",
       "      <th>Cabin_binary</th>\n",
       "      <th>sex_binary</th>\n",
       "      <th>Pclass_1</th>\n",
       "      <th>Pclass_2</th>\n",
       "      <th>Pclass_3</th>\n",
       "    </tr>\n",
       "  </thead>\n",
       "  <tbody>\n",
       "    <tr>\n",
       "      <th>0</th>\n",
       "      <td>1</td>\n",
       "      <td>0</td>\n",
       "      <td>Braund, Mr. Owen Harris</td>\n",
       "      <td>male</td>\n",
       "      <td>22</td>\n",
       "      <td>1</td>\n",
       "      <td>0</td>\n",
       "      <td>A/5 21171</td>\n",
       "      <td>7.2500</td>\n",
       "      <td>S</td>\n",
       "      <td>0</td>\n",
       "      <td>0</td>\n",
       "      <td>0.0</td>\n",
       "      <td>0.0</td>\n",
       "      <td>1.0</td>\n",
       "    </tr>\n",
       "    <tr>\n",
       "      <th>1</th>\n",
       "      <td>2</td>\n",
       "      <td>1</td>\n",
       "      <td>Cumings, Mrs. John Bradley (Florence Briggs Th...</td>\n",
       "      <td>female</td>\n",
       "      <td>38</td>\n",
       "      <td>1</td>\n",
       "      <td>0</td>\n",
       "      <td>PC 17599</td>\n",
       "      <td>71.2833</td>\n",
       "      <td>C</td>\n",
       "      <td>1</td>\n",
       "      <td>1</td>\n",
       "      <td>1.0</td>\n",
       "      <td>0.0</td>\n",
       "      <td>0.0</td>\n",
       "    </tr>\n",
       "  </tbody>\n",
       "</table>\n",
       "</div>"
      ],
      "text/plain": [
       "   PassengerId  Survived                                               Name  \\\n",
       "0            1         0                            Braund, Mr. Owen Harris   \n",
       "1            2         1  Cumings, Mrs. John Bradley (Florence Briggs Th...   \n",
       "\n",
       "      Sex  Age  SibSp  Parch     Ticket     Fare Embarked  Cabin_binary  \\\n",
       "0    male   22      1      0  A/5 21171   7.2500        S             0   \n",
       "1  female   38      1      0   PC 17599  71.2833        C             1   \n",
       "\n",
       "   sex_binary  Pclass_1  Pclass_2  Pclass_3  \n",
       "0           0       0.0       0.0       1.0  \n",
       "1           1       1.0       0.0       0.0  "
      ]
     },
     "execution_count": 19,
     "metadata": {},
     "output_type": "execute_result"
    }
   ],
   "source": [
    "#Check news classes\n",
    "titanic_df.head(2)"
   ]
  },
  {
   "cell_type": "markdown",
   "metadata": {},
   "source": [
    "it's work 🤟"
   ]
  },
  {
   "cell_type": "markdown",
   "metadata": {},
   "source": [
    "#### Convert age feature in categories"
   ]
  },
  {
   "cell_type": "markdown",
   "metadata": {},
   "source": [
    "Here we can see lot of things: \n",
    "1. Children (age <= 14) seems to have a significant higher survival rate\n",
    "2. Women with an age superior at 50 seems to have a significant higher survival rate\n",
    "\n",
    "We can try to create 3 class: \n",
    "1. One for children \n",
    "2. One for women with an age superior at 50\n",
    "3. The others\n",
    "\n",
    "It's a data exploration, after the first running model we can try to improve  our predict score by change the classes and features. "
   ]
  },
  {
   "cell_type": "code",
   "execution_count": 20,
   "metadata": {},
   "outputs": [],
   "source": [
    "#Create the three different classes of people\n",
    "titanic_df[\"Who\"] = titanic_df[[\"sex_binary\",\"Age\"]].apply(lambda x : class_of_people_by_age_sex(x.Age, x.sex_binary), axis = 1)\n"
   ]
  },
  {
   "cell_type": "code",
   "execution_count": 21,
   "metadata": {},
   "outputs": [
    {
     "data": {
      "image/png": "[encoded data removed]",
      "text/plain": [
       "<Figure size 430.5x360 with 1 Axes>"
      ]
     },
     "metadata": {
      "needs_background": "light"
     },
     "output_type": "display_data"
    }
   ],
   "source": [
    "#Show the survival rate by new classes\n",
    "ax = sns.catplot(x=\"Who\",y=\"Survived\",data=titanic_df\n",
    "    , kind=\"bar\",hue=\"Sex\", ci=None, aspect=1)"
   ]
  },
  {
   "cell_type": "code",
   "execution_count": 22,
   "metadata": {},
   "outputs": [],
   "source": [
    "#Create two news features for Children and female over 50\n",
    "titanic_df[\"is_children\"] = titanic_df[\"Age\"].apply(lambda x: 0 if x>=14 else 1)\n",
    "titanic_df[\"is_woman_over_50\"] = titanic_df[[\"Age\",\"sex_binary\"]].apply(lambda x: 1 if x.Age>=50 and x.sex_binary == 1 else 0, axis=1)\n",
    "titanic_df.drop(columns=[\"Age\",\"Who\"], inplace=True)"
   ]
  },
  {
   "cell_type": "code",
   "execution_count": 23,
   "metadata": {},
   "outputs": [
    {
     "data": {
      "text/html": [
       "<div>\n",
       "<style scoped>\n",
       "    .dataframe tbody tr th:only-of-type {\n",
       "        vertical-align: middle;\n",
       "    }\n",
       "\n",
       "    .dataframe tbody tr th {\n",
       "        vertical-align: top;\n",
       "    }\n",
       "\n",
       "    .dataframe thead th {\n",
       "        text-align: right;\n",
       "    }\n",
       "</style>\n",
       "<table border=\"1\" class=\"dataframe\">\n",
       "  <thead>\n",
       "    <tr style=\"text-align: right;\">\n",
       "      <th></th>\n",
       "      <th>PassengerId</th>\n",
       "      <th>Survived</th>\n",
       "      <th>Name</th>\n",
       "      <th>Sex</th>\n",
       "      <th>SibSp</th>\n",
       "      <th>Parch</th>\n",
       "      <th>Ticket</th>\n",
       "      <th>Fare</th>\n",
       "      <th>Embarked</th>\n",
       "      <th>Cabin_binary</th>\n",
       "      <th>sex_binary</th>\n",
       "      <th>Pclass_1</th>\n",
       "      <th>Pclass_2</th>\n",
       "      <th>Pclass_3</th>\n",
       "      <th>is_children</th>\n",
       "      <th>is_woman_over_50</th>\n",
       "    </tr>\n",
       "  </thead>\n",
       "  <tbody>\n",
       "    <tr>\n",
       "      <th>11</th>\n",
       "      <td>12</td>\n",
       "      <td>1</td>\n",
       "      <td>Bonnell, Miss. Elizabeth</td>\n",
       "      <td>female</td>\n",
       "      <td>0</td>\n",
       "      <td>0</td>\n",
       "      <td>113783</td>\n",
       "      <td>26.5500</td>\n",
       "      <td>S</td>\n",
       "      <td>1</td>\n",
       "      <td>1</td>\n",
       "      <td>1.0</td>\n",
       "      <td>0.0</td>\n",
       "      <td>0.0</td>\n",
       "      <td>0</td>\n",
       "      <td>1</td>\n",
       "    </tr>\n",
       "    <tr>\n",
       "      <th>15</th>\n",
       "      <td>16</td>\n",
       "      <td>1</td>\n",
       "      <td>Hewlett, Mrs. (Mary D Kingcome)</td>\n",
       "      <td>female</td>\n",
       "      <td>0</td>\n",
       "      <td>0</td>\n",
       "      <td>248706</td>\n",
       "      <td>16.0000</td>\n",
       "      <td>S</td>\n",
       "      <td>0</td>\n",
       "      <td>1</td>\n",
       "      <td>0.0</td>\n",
       "      <td>1.0</td>\n",
       "      <td>0.0</td>\n",
       "      <td>0</td>\n",
       "      <td>1</td>\n",
       "    </tr>\n",
       "    <tr>\n",
       "      <th>177</th>\n",
       "      <td>178</td>\n",
       "      <td>0</td>\n",
       "      <td>Isham, Miss. Ann Elizabeth</td>\n",
       "      <td>female</td>\n",
       "      <td>0</td>\n",
       "      <td>0</td>\n",
       "      <td>PC 17595</td>\n",
       "      <td>28.7125</td>\n",
       "      <td>C</td>\n",
       "      <td>1</td>\n",
       "      <td>1</td>\n",
       "      <td>0.0</td>\n",
       "      <td>1.0</td>\n",
       "      <td>0.0</td>\n",
       "      <td>0</td>\n",
       "      <td>1</td>\n",
       "    </tr>\n",
       "  </tbody>\n",
       "</table>\n",
       "</div>"
      ],
      "text/plain": [
       "     PassengerId  Survived                              Name     Sex  SibSp  \\\n",
       "11            12         1          Bonnell, Miss. Elizabeth  female      0   \n",
       "15            16         1  Hewlett, Mrs. (Mary D Kingcome)   female      0   \n",
       "177          178         0        Isham, Miss. Ann Elizabeth  female      0   \n",
       "\n",
       "     Parch    Ticket     Fare Embarked  Cabin_binary  sex_binary  Pclass_1  \\\n",
       "11       0    113783  26.5500        S             1           1       1.0   \n",
       "15       0    248706  16.0000        S             0           1       0.0   \n",
       "177      0  PC 17595  28.7125        C             1           1       0.0   \n",
       "\n",
       "     Pclass_2  Pclass_3  is_children  is_woman_over_50  \n",
       "11        0.0       0.0            0                 1  \n",
       "15        1.0       0.0            0                 1  \n",
       "177       1.0       0.0            0                 1  "
      ]
     },
     "execution_count": 23,
     "metadata": {},
     "output_type": "execute_result"
    }
   ],
   "source": [
    "#Check these news features\n",
    "titanic_df[titanic_df[\"is_woman_over_50\"]==1].head(3)"
   ]
  },
  {
   "cell_type": "markdown",
   "metadata": {},
   "source": [
    "#### Convert Emarked in categories"
   ]
  },
  {
   "cell_type": "code",
   "execution_count": 24,
   "metadata": {},
   "outputs": [],
   "source": [
    "# Declare an One Hot encoding object\n",
    "ohe = OneHotEncoder(handle_unknown='ignore')\n",
    "#Fit and transform on the Embarked features\n",
    "encode_df = pd.DataFrame(ohe.fit_transform(titanic_df[[\"Embarked\"]]).toarray())\n",
    "#Get the columns names out of the news features (construct like names_of_old_features_className)\n",
    "encode_df.columns = ohe.get_feature_names_out()\n",
    "#Join news features with the titanic dataframe\n",
    "titanic_df = titanic_df.join(encode_df)\n",
    "\n",
    "#Drop old Embarked column\n",
    "titanic_df.drop(columns=\"Embarked\", inplace=True)"
   ]
  },
  {
   "cell_type": "markdown",
   "metadata": {},
   "source": [
    "#### Check if the names of peoples contains good informations 👌🏼"
   ]
  },
  {
   "cell_type": "markdown",
   "metadata": {},
   "source": [
    "We can see  in the names features different types of titles: \n",
    "- mrs\n",
    "- mr\n",
    "- etc\n",
    "\n",
    "Does that titles contains any information ? \n",
    "\n"
   ]
  },
  {
   "cell_type": "code",
   "execution_count": 25,
   "metadata": {},
   "outputs": [],
   "source": [
    "#Get \n",
    "titanic_df[\"Name_cat\"]= titanic_df[\"Name\"].apply(lambda x : get_title(x))"
   ]
  },
  {
   "cell_type": "code",
   "execution_count": 26,
   "metadata": {},
   "outputs": [
    {
     "data": {
      "image/png": "[encoded data removed]",
      "text/plain": [
       "<Figure size 1080x360 with 2 Axes>"
      ]
     },
     "metadata": {
      "needs_background": "light"
     },
     "output_type": "display_data"
    }
   ],
   "source": [
    "#Show the survival rate by Titles of peoples\n",
    "ax = sns.catplot(x=\"Name_cat\",y=\"Survived\",col=\"sex_binary\",data=titanic_df\n",
    "    , kind=\"bar\", ci=None, aspect=1.5)\n",
    "#Rotate X labels for a better readability\n",
    "for axes in ax.axes.flat:\n",
    "    _ = axes.set_xticklabels(axes.get_xticklabels(), rotation=-60)"
   ]
  },
  {
   "cell_type": "markdown",
   "metadata": {},
   "source": [
    "Yes ✅ but we cannot create an infinite number of features and one hot encode this new feature can generate 16 new features by default. \n",
    "We can agregate :\n",
    "- Dr. \n",
    "- Mme.\n",
    "- Lady\n",
    "- Mlle\n",
    "- Col\n",
    "- The Countess\n",
    "- Sir \n",
    "\n",
    "Why ? Because it contains the same information in regards to survived rate. \n"
   ]
  },
  {
   "cell_type": "code",
   "execution_count": 27,
   "metadata": {},
   "outputs": [],
   "source": [
    "# Survival rate of 1\n",
    "high_survival_rate = [\"Sir.\",\"Dr.\",\"Mme.\",\"Ms.\",\"Lady.\",\"Mlle.\",\"the Countess.\"]\n",
    "#Survival rate of 0.5\n",
    "middle_survival_rate = [\"Major.\",\"Col.\"]\n",
    "\n",
    "#Create new features\n",
    "titanic_df[\"high_suvived_titles\"] = titanic_df[\"Name_cat\"].apply(lambda x: 1 if x in high_survival_rate else 0)\n",
    "titanic_df[\"middle_suvived_titles\"] = titanic_df[\"Name_cat\"].apply(lambda x: 1 if x in middle_survival_rate else 0)"
   ]
  },
  {
   "cell_type": "code",
   "execution_count": 28,
   "metadata": {},
   "outputs": [
    {
     "data": {
      "text/html": [
       "<div>\n",
       "<style scoped>\n",
       "    .dataframe tbody tr th:only-of-type {\n",
       "        vertical-align: middle;\n",
       "    }\n",
       "\n",
       "    .dataframe tbody tr th {\n",
       "        vertical-align: top;\n",
       "    }\n",
       "\n",
       "    .dataframe thead th {\n",
       "        text-align: right;\n",
       "    }\n",
       "</style>\n",
       "<table border=\"1\" class=\"dataframe\">\n",
       "  <thead>\n",
       "    <tr style=\"text-align: right;\">\n",
       "      <th></th>\n",
       "      <th>PassengerId</th>\n",
       "      <th>Survived</th>\n",
       "      <th>Name</th>\n",
       "      <th>Sex</th>\n",
       "      <th>SibSp</th>\n",
       "      <th>Parch</th>\n",
       "      <th>Ticket</th>\n",
       "      <th>Fare</th>\n",
       "      <th>Cabin_binary</th>\n",
       "      <th>sex_binary</th>\n",
       "      <th>...</th>\n",
       "      <th>Pclass_2</th>\n",
       "      <th>Pclass_3</th>\n",
       "      <th>is_children</th>\n",
       "      <th>is_woman_over_50</th>\n",
       "      <th>Embarked_C</th>\n",
       "      <th>Embarked_Q</th>\n",
       "      <th>Embarked_S</th>\n",
       "      <th>Name_cat</th>\n",
       "      <th>high_suvived_titles</th>\n",
       "      <th>middle_suvived_titles</th>\n",
       "    </tr>\n",
       "  </thead>\n",
       "  <tbody>\n",
       "    <tr>\n",
       "      <th>245</th>\n",
       "      <td>246</td>\n",
       "      <td>0</td>\n",
       "      <td>Minahan, Dr. William Edward</td>\n",
       "      <td>male</td>\n",
       "      <td>2</td>\n",
       "      <td>0</td>\n",
       "      <td>19928</td>\n",
       "      <td>90.0</td>\n",
       "      <td>1</td>\n",
       "      <td>0</td>\n",
       "      <td>...</td>\n",
       "      <td>0.0</td>\n",
       "      <td>1.0</td>\n",
       "      <td>0</td>\n",
       "      <td>0</td>\n",
       "      <td>0.0</td>\n",
       "      <td>0.0</td>\n",
       "      <td>1.0</td>\n",
       "      <td>Dr.</td>\n",
       "      <td>1</td>\n",
       "      <td>0</td>\n",
       "    </tr>\n",
       "    <tr>\n",
       "      <th>317</th>\n",
       "      <td>318</td>\n",
       "      <td>0</td>\n",
       "      <td>Moraweck, Dr. Ernest</td>\n",
       "      <td>male</td>\n",
       "      <td>0</td>\n",
       "      <td>0</td>\n",
       "      <td>29011</td>\n",
       "      <td>14.0</td>\n",
       "      <td>0</td>\n",
       "      <td>0</td>\n",
       "      <td>...</td>\n",
       "      <td>0.0</td>\n",
       "      <td>0.0</td>\n",
       "      <td>0</td>\n",
       "      <td>0</td>\n",
       "      <td>0.0</td>\n",
       "      <td>0.0</td>\n",
       "      <td>1.0</td>\n",
       "      <td>Dr.</td>\n",
       "      <td>1</td>\n",
       "      <td>0</td>\n",
       "    </tr>\n",
       "  </tbody>\n",
       "</table>\n",
       "<p>2 rows × 21 columns</p>\n",
       "</div>"
      ],
      "text/plain": [
       "     PassengerId  Survived                         Name   Sex  SibSp  Parch  \\\n",
       "245          246         0  Minahan, Dr. William Edward  male      2      0   \n",
       "317          318         0         Moraweck, Dr. Ernest  male      0      0   \n",
       "\n",
       "    Ticket  Fare  Cabin_binary  sex_binary  ...  Pclass_2  Pclass_3  \\\n",
       "245  19928  90.0             1           0  ...       0.0       1.0   \n",
       "317  29011  14.0             0           0  ...       0.0       0.0   \n",
       "\n",
       "     is_children  is_woman_over_50  Embarked_C  Embarked_Q  Embarked_S  \\\n",
       "245            0                 0         0.0         0.0         1.0   \n",
       "317            0                 0         0.0         0.0         1.0   \n",
       "\n",
       "     Name_cat high_suvived_titles  middle_suvived_titles  \n",
       "245       Dr.                   1                      0  \n",
       "317       Dr.                   1                      0  \n",
       "\n",
       "[2 rows x 21 columns]"
      ]
     },
     "execution_count": 28,
     "metadata": {},
     "output_type": "execute_result"
    }
   ],
   "source": [
    "titanic_df[titanic_df[\"high_suvived_titles\"]==1].head(2)"
   ]
  },
  {
   "cell_type": "code",
   "execution_count": 29,
   "metadata": {},
   "outputs": [],
   "source": [
    "# Declare an One Hot encoding object\n",
    "ohe = OneHotEncoder(handle_unknown='ignore')\n",
    "#Fit and transform on the Name_cat features\n",
    "encode_df = pd.DataFrame(ohe.fit_transform(titanic_df[[\"Name_cat\"]]).toarray())\n",
    "#Get the columns names out of the news features (construct like names_of_old_features_className)\n",
    "encode_df.columns = ohe.get_feature_names_out()\n",
    "#Join news features with the titanic dataframe\n",
    "titanic_df = titanic_df.join(encode_df)\n",
    "\n",
    "#Drop old Name_cat column\n",
    "titanic_df.drop(columns=\"Name_cat\", inplace=True)"
   ]
  },
  {
   "cell_type": "code",
   "execution_count": 30,
   "metadata": {},
   "outputs": [],
   "source": [
    "# Delete already present information in high_suvived_titles and middle columns\n",
    "good_name = [\"Name_cat_\"+title for title in high_survival_rate + middle_survival_rate]\n",
    "titanic_df.drop(columns=good_name, inplace=True)"
   ]
  },
  {
   "cell_type": "code",
   "execution_count": 31,
   "metadata": {},
   "outputs": [
    {
     "data": {
      "text/html": [
       "<div>\n",
       "<style scoped>\n",
       "    .dataframe tbody tr th:only-of-type {\n",
       "        vertical-align: middle;\n",
       "    }\n",
       "\n",
       "    .dataframe tbody tr th {\n",
       "        vertical-align: top;\n",
       "    }\n",
       "\n",
       "    .dataframe thead th {\n",
       "        text-align: right;\n",
       "    }\n",
       "</style>\n",
       "<table border=\"1\" class=\"dataframe\">\n",
       "  <thead>\n",
       "    <tr style=\"text-align: right;\">\n",
       "      <th></th>\n",
       "      <th>PassengerId</th>\n",
       "      <th>Survived</th>\n",
       "      <th>Name</th>\n",
       "      <th>Sex</th>\n",
       "      <th>SibSp</th>\n",
       "      <th>Parch</th>\n",
       "      <th>Ticket</th>\n",
       "      <th>Fare</th>\n",
       "      <th>Cabin_binary</th>\n",
       "      <th>sex_binary</th>\n",
       "      <th>...</th>\n",
       "      <th>high_suvived_titles</th>\n",
       "      <th>middle_suvived_titles</th>\n",
       "      <th>Name_cat_Capt.</th>\n",
       "      <th>Name_cat_Don.</th>\n",
       "      <th>Name_cat_Jonkheer.</th>\n",
       "      <th>Name_cat_Master.</th>\n",
       "      <th>Name_cat_Miss.</th>\n",
       "      <th>Name_cat_Mr.</th>\n",
       "      <th>Name_cat_Mrs.</th>\n",
       "      <th>Name_cat_Rev.</th>\n",
       "    </tr>\n",
       "  </thead>\n",
       "  <tbody>\n",
       "    <tr>\n",
       "      <th>0</th>\n",
       "      <td>1</td>\n",
       "      <td>0</td>\n",
       "      <td>Braund, Mr. Owen Harris</td>\n",
       "      <td>male</td>\n",
       "      <td>1</td>\n",
       "      <td>0</td>\n",
       "      <td>A/5 21171</td>\n",
       "      <td>7.2500</td>\n",
       "      <td>0</td>\n",
       "      <td>0</td>\n",
       "      <td>...</td>\n",
       "      <td>0</td>\n",
       "      <td>0</td>\n",
       "      <td>0.0</td>\n",
       "      <td>0.0</td>\n",
       "      <td>0.0</td>\n",
       "      <td>0.0</td>\n",
       "      <td>0.0</td>\n",
       "      <td>1.0</td>\n",
       "      <td>0.0</td>\n",
       "      <td>0.0</td>\n",
       "    </tr>\n",
       "    <tr>\n",
       "      <th>1</th>\n",
       "      <td>2</td>\n",
       "      <td>1</td>\n",
       "      <td>Cumings, Mrs. John Bradley (Florence Briggs Th...</td>\n",
       "      <td>female</td>\n",
       "      <td>1</td>\n",
       "      <td>0</td>\n",
       "      <td>PC 17599</td>\n",
       "      <td>71.2833</td>\n",
       "      <td>1</td>\n",
       "      <td>1</td>\n",
       "      <td>...</td>\n",
       "      <td>0</td>\n",
       "      <td>0</td>\n",
       "      <td>0.0</td>\n",
       "      <td>0.0</td>\n",
       "      <td>0.0</td>\n",
       "      <td>0.0</td>\n",
       "      <td>0.0</td>\n",
       "      <td>0.0</td>\n",
       "      <td>1.0</td>\n",
       "      <td>0.0</td>\n",
       "    </tr>\n",
       "  </tbody>\n",
       "</table>\n",
       "<p>2 rows × 28 columns</p>\n",
       "</div>"
      ],
      "text/plain": [
       "   PassengerId  Survived                                               Name  \\\n",
       "0            1         0                            Braund, Mr. Owen Harris   \n",
       "1            2         1  Cumings, Mrs. John Bradley (Florence Briggs Th...   \n",
       "\n",
       "      Sex  SibSp  Parch     Ticket     Fare  Cabin_binary  sex_binary  ...  \\\n",
       "0    male      1      0  A/5 21171   7.2500             0           0  ...   \n",
       "1  female      1      0   PC 17599  71.2833             1           1  ...   \n",
       "\n",
       "   high_suvived_titles  middle_suvived_titles  Name_cat_Capt.  Name_cat_Don.  \\\n",
       "0                    0                      0             0.0            0.0   \n",
       "1                    0                      0             0.0            0.0   \n",
       "\n",
       "   Name_cat_Jonkheer.  Name_cat_Master.  Name_cat_Miss.  Name_cat_Mr.  \\\n",
       "0                 0.0               0.0             0.0           1.0   \n",
       "1                 0.0               0.0             0.0           0.0   \n",
       "\n",
       "   Name_cat_Mrs.  Name_cat_Rev.  \n",
       "0            0.0            0.0  \n",
       "1            1.0            0.0  \n",
       "\n",
       "[2 rows x 28 columns]"
      ]
     },
     "execution_count": 31,
     "metadata": {},
     "output_type": "execute_result"
    }
   ],
   "source": [
    "titanic_df.head(2)"
   ]
  },
  {
   "cell_type": "markdown",
   "metadata": {},
   "source": [
    "### Target Class repartition"
   ]
  },
  {
   "cell_type": "code",
   "execution_count": 32,
   "metadata": {},
   "outputs": [
    {
     "data": {
      "text/plain": [
       "Survived\n",
       "0           549\n",
       "1           340\n",
       "dtype: int64"
      ]
     },
     "execution_count": 32,
     "metadata": {},
     "output_type": "execute_result"
    }
   ],
   "source": [
    "titanic_df[[\"Survived\"]].value_counts()"
   ]
  },
  {
   "cell_type": "markdown",
   "metadata": {},
   "source": [
    "We can see here the target class is unbalance:\n",
    "| Survived | 0   | 1   |\n",
    "|----------|-----|-----|\n",
    "|          | 549 | 342 |"
   ]
  },
  {
   "cell_type": "markdown",
   "metadata": {},
   "source": [
    "But let's try an easy model to check if we have a good accuracy, with this unbalanc target Class. "
   ]
  },
  {
   "cell_type": "code",
   "execution_count": 33,
   "metadata": {},
   "outputs": [
    {
     "data": {
      "text/plain": [
       "Index(['PassengerId', 'Survived', 'Name', 'Sex', 'SibSp', 'Parch', 'Ticket',\n",
       "       'Fare', 'Cabin_binary', 'sex_binary', 'Pclass_1', 'Pclass_2',\n",
       "       'Pclass_3', 'is_children', 'is_woman_over_50', 'Embarked_C',\n",
       "       'Embarked_Q', 'Embarked_S', 'high_suvived_titles',\n",
       "       'middle_suvived_titles', 'Name_cat_Capt.', 'Name_cat_Don.',\n",
       "       'Name_cat_Jonkheer.', 'Name_cat_Master.', 'Name_cat_Miss.',\n",
       "       'Name_cat_Mr.', 'Name_cat_Mrs.', 'Name_cat_Rev.'],\n",
       "      dtype='object')"
      ]
     },
     "execution_count": 33,
     "metadata": {},
     "output_type": "execute_result"
    }
   ],
   "source": [
    "titanic_df.keys()"
   ]
  },
  {
   "cell_type": "code",
   "execution_count": 34,
   "metadata": {},
   "outputs": [
    {
     "name": "stdout",
     "output_type": "stream",
     "text": [
      "Survived as 548 0 values\n",
      "Fare as 15 0 values\n",
      "Cabin_binary as 686 0 values\n",
      "sex_binary as 575 0 values\n",
      "Pclass_1 as 674 0 values\n",
      "Pclass_2 as 704 0 values\n",
      "Pclass_3 as 396 0 values\n",
      "high_suvived_titles as 873 0 values\n",
      "Name_cat_Don. as 886 0 values\n",
      "Name_cat_Jonkheer. as 886 0 values\n",
      "Name_cat_Master. as 848 0 values\n",
      "Name_cat_Miss. as 706 0 values\n",
      "Name_cat_Mr. as 371 0 values\n",
      "Name_cat_Mrs. as 763 0 values\n",
      "Name_cat_Rev. as 881 0 values\n"
     ]
    }
   ],
   "source": [
    "titanic_2_df = titanic_df[[\"Survived\",\"Fare\",\"Cabin_binary\",\"sex_binary\",\"Pclass_1\",\\\n",
    "    \"Pclass_2\",\"Pclass_3\",\"high_suvived_titles\", 'Name_cat_Don.', 'Name_cat_Jonkheer.',\n",
    "       'Name_cat_Master.', 'Name_cat_Miss.', 'Name_cat_Mr.', 'Name_cat_Mrs.',\n",
    "       'Name_cat_Rev.']].dropna().copy()\n",
    "\n",
    "# Check the 0 value in the dataset\n",
    "for column in titanic_2_df.columns:\n",
    "    print(f\"{column} as {(titanic_2_df[column]==0).sum()} 0 values\")"
   ]
  },
  {
   "cell_type": "markdown",
   "metadata": {},
   "source": [
    "### Check numerical continuous value and apply scaling"
   ]
  },
  {
   "cell_type": "code",
   "execution_count": 35,
   "metadata": {},
   "outputs": [
    {
     "data": {
      "text/plain": [
       "<AxesSubplot:>"
      ]
     },
     "execution_count": 35,
     "metadata": {},
     "output_type": "execute_result"
    },
    {
     "data": {
      "image/png": "[encoded data removed]",
      "text/plain": [
       "<Figure size 432x288 with 1 Axes>"
      ]
     },
     "metadata": {
      "needs_background": "light"
     },
     "output_type": "display_data"
    }
   ],
   "source": [
    "#Check if fare have outliers\n",
    "titanic_2_df[[\"Fare\"]].boxplot()"
   ]
  },
  {
   "cell_type": "markdown",
   "metadata": {},
   "source": [
    "Ok, with Fare we have a lot of outsider. Go to a robustScaling. (After train test our dataset)\n",
    "With the help of the learning curve, we can find a good estimation for our split percentage. "
   ]
  },
  {
   "cell_type": "code",
   "execution_count": 44,
   "metadata": {},
   "outputs": [
    {
     "name": "stderr",
     "output_type": "stream",
     "text": [
      "/Users/christopherdeboisvilliers/.pyenv/versions/lewagon/lib/python3.8/site-packages/seaborn/_decorators.py:36: FutureWarning: Pass the following variables as keyword args: x, y. From version 0.12, the only valid positional argument will be `data`, and passing other arguments without an explicit keyword will result in an error or misinterpretation.\n",
      "  warnings.warn(\n",
      "/Users/christopherdeboisvilliers/.pyenv/versions/lewagon/lib/python3.8/site-packages/seaborn/_decorators.py:36: FutureWarning: Pass the following variables as keyword args: x, y. From version 0.12, the only valid positional argument will be `data`, and passing other arguments without an explicit keyword will result in an error or misinterpretation.\n",
      "  warnings.warn(\n"
     ]
    },
    {
     "data": {
      "text/plain": [
       "<AxesSubplot:>"
      ]
     },
     "execution_count": 44,
     "metadata": {},
     "output_type": "execute_result"
    },
    {
     "data": {
      "image/png": "[encoded data removed]",
      "text/plain": [
       "<Figure size 432x288 with 1 Axes>"
      ]
     },
     "metadata": {
      "needs_background": "light"
     },
     "output_type": "display_data"
    }
   ],
   "source": [
    "train_sizes, train_scores, test_scores = learning_curve(\n",
    "     LogisticRegression(solver = \"liblinear\",max_iter=500 ), X, y, train_sizes=[i for i in range(1,709,20)], cv=5)\n",
    "\n",
    "train_scores_mean = np.mean(train_scores,axis=1)\n",
    "test_scores_mean = np.mean(test_scores,axis=1)\n",
    "sns.lineplot(train_sizes, train_scores_mean, label=\"train\")\n",
    "sns.lineplot(train_sizes, test_scores_mean, label=\"test\")"
   ]
  },
  {
   "cell_type": "code",
   "execution_count": 43,
   "metadata": {},
   "outputs": [
    {
     "data": {
      "text/html": [
       "<div>\n",
       "<style scoped>\n",
       "    .dataframe tbody tr th:only-of-type {\n",
       "        vertical-align: middle;\n",
       "    }\n",
       "\n",
       "    .dataframe tbody tr th {\n",
       "        vertical-align: top;\n",
       "    }\n",
       "\n",
       "    .dataframe thead th {\n",
       "        text-align: right;\n",
       "    }\n",
       "</style>\n",
       "<table border=\"1\" class=\"dataframe\">\n",
       "  <thead>\n",
       "    <tr style=\"text-align: right;\">\n",
       "      <th></th>\n",
       "      <th>Survived</th>\n",
       "      <th>Fare</th>\n",
       "      <th>Cabin_binary</th>\n",
       "      <th>sex_binary</th>\n",
       "      <th>Pclass_1</th>\n",
       "      <th>Pclass_2</th>\n",
       "      <th>Pclass_3</th>\n",
       "      <th>high_suvived_titles</th>\n",
       "      <th>Name_cat_Don.</th>\n",
       "      <th>Name_cat_Jonkheer.</th>\n",
       "      <th>Name_cat_Master.</th>\n",
       "      <th>Name_cat_Miss.</th>\n",
       "      <th>Name_cat_Mr.</th>\n",
       "      <th>Name_cat_Mrs.</th>\n",
       "      <th>Name_cat_Rev.</th>\n",
       "    </tr>\n",
       "  </thead>\n",
       "  <tbody>\n",
       "    <tr>\n",
       "      <th>0</th>\n",
       "      <td>0</td>\n",
       "      <td>7.2500</td>\n",
       "      <td>0</td>\n",
       "      <td>0</td>\n",
       "      <td>0.0</td>\n",
       "      <td>0.0</td>\n",
       "      <td>1.0</td>\n",
       "      <td>0</td>\n",
       "      <td>0.0</td>\n",
       "      <td>0.0</td>\n",
       "      <td>0.0</td>\n",
       "      <td>0.0</td>\n",
       "      <td>1.0</td>\n",
       "      <td>0.0</td>\n",
       "      <td>0.0</td>\n",
       "    </tr>\n",
       "    <tr>\n",
       "      <th>1</th>\n",
       "      <td>1</td>\n",
       "      <td>71.2833</td>\n",
       "      <td>1</td>\n",
       "      <td>1</td>\n",
       "      <td>1.0</td>\n",
       "      <td>0.0</td>\n",
       "      <td>0.0</td>\n",
       "      <td>0</td>\n",
       "      <td>0.0</td>\n",
       "      <td>0.0</td>\n",
       "      <td>0.0</td>\n",
       "      <td>0.0</td>\n",
       "      <td>0.0</td>\n",
       "      <td>1.0</td>\n",
       "      <td>0.0</td>\n",
       "    </tr>\n",
       "  </tbody>\n",
       "</table>\n",
       "</div>"
      ],
      "text/plain": [
       "   Survived     Fare  Cabin_binary  sex_binary  Pclass_1  Pclass_2  Pclass_3  \\\n",
       "0         0   7.2500             0           0       0.0       0.0       1.0   \n",
       "1         1  71.2833             1           1       1.0       0.0       0.0   \n",
       "\n",
       "   high_suvived_titles  Name_cat_Don.  Name_cat_Jonkheer.  Name_cat_Master.  \\\n",
       "0                    0            0.0                 0.0               0.0   \n",
       "1                    0            0.0                 0.0               0.0   \n",
       "\n",
       "   Name_cat_Miss.  Name_cat_Mr.  Name_cat_Mrs.  Name_cat_Rev.  \n",
       "0             0.0           1.0            0.0            0.0  \n",
       "1             0.0           0.0            1.0            0.0  "
      ]
     },
     "execution_count": 43,
     "metadata": {},
     "output_type": "execute_result"
    }
   ],
   "source": [
    "titanic_2_df.head(2)"
   ]
  },
  {
   "cell_type": "code",
   "execution_count": 45,
   "metadata": {},
   "outputs": [],
   "source": [
    "#Define our X\n",
    "X = titanic_2_df.loc[:,titanic_2_df.columns != \"Survived\"]\n",
    "\n",
    "#Define our Y\n",
    "y= titanic_2_df[\"Survived\"]"
   ]
  },
  {
   "cell_type": "markdown",
   "metadata": {},
   "source": [
    "This last curves can tell us than 350~400 rows in our train dataset is enough."
   ]
  },
  {
   "cell_type": "code",
   "execution_count": 57,
   "metadata": {},
   "outputs": [],
   "source": [
    "#Get all columns execpt Survived\n",
    "X = titanic_2_df.loc[:,titanic_2_df.columns != \"Survived\"]\n",
    "#Select the target features\n",
    "y= titanic_2_df[\"Survived\"]\n",
    "#Cut the dataset in 50% test 50% train\n",
    "X_train, X_test, y_train, y_test = train_test_split(\\\n",
    "       X, y, test_size=0.50, random_state=4011)"
   ]
  },
  {
   "cell_type": "code",
   "execution_count": 55,
   "metadata": {},
   "outputs": [],
   "source": [
    "\n",
    "# For outlier\n",
    "r_scaler = RobustScaler()\n",
    "\n",
    "scaler_robust= r_scaler.fit(X_train[[\"Fare\"]])\n",
    "X_train[[\"Fare\"]] = scaler_robust.transform(X_train[[\"Fare\"]])\n",
    "X_test[[\"Fare\"]] =scaler_robust.transform(X_test[[\"Fare\"]])\n",
    "\n"
   ]
  },
  {
   "cell_type": "markdown",
   "metadata": {},
   "source": [
    "### Test a dummy logistic regression model"
   ]
  },
  {
   "cell_type": "code",
   "execution_count": 58,
   "metadata": {},
   "outputs": [
    {
     "name": "stdout",
     "output_type": "stream",
     "text": [
      "resultat de la moyenne des cross validation : 0.8215270684371809\n"
     ]
    }
   ],
   "source": [
    "\n",
    "\n",
    "model = LogisticRegression(max_iter=1000, solver=\"liblinear\")\n",
    "cv_results = cross_validate(model, X_train,y_train,cv=5)\n",
    "result = cv_results[\"test_score\"].mean()\n",
    "print(f\"resultat de la moyenne des cross validation : {result}\")\n"
   ]
  },
  {
   "cell_type": "code",
   "execution_count": 61,
   "metadata": {},
   "outputs": [],
   "source": [
    "# Fine tune with random state\n",
    "for i in range(0,10000):\n",
    "    X_train, X_test, y_train, y_test = train_test_split(\\\n",
    "       X, y, test_size=0.20, random_state=i)\n",
    "    model = LogisticRegression(max_iter=1000, solver=\"liblinear\")\n",
    "    res = [cross_validate(model, X_train,y_train,cv=5)[\"test_score\"].mean()]\n",
    "    # print(f\"resultat de la moyenne des cross validation : {result}, pour un random state de {i+1}\")\n",
    "  \n"
   ]
  },
  {
   "cell_type": "code",
   "execution_count": 59,
   "metadata": {},
   "outputs": [
    {
     "data": {
      "text/plain": [
       "0.8110078913195485"
      ]
     },
     "execution_count": 59,
     "metadata": {},
     "output_type": "execute_result"
    }
   ],
   "source": [
    "max(res)"
   ]
  },
  {
   "cell_type": "markdown",
   "metadata": {},
   "source": [
    "#### Robust scaling on Fare"
   ]
  },
  {
   "cell_type": "code",
   "execution_count": 115,
   "metadata": {},
   "outputs": [
    {
     "data": {
      "text/html": [
       "<div>\n",
       "<style scoped>\n",
       "    .dataframe tbody tr th:only-of-type {\n",
       "        vertical-align: middle;\n",
       "    }\n",
       "\n",
       "    .dataframe tbody tr th {\n",
       "        vertical-align: top;\n",
       "    }\n",
       "\n",
       "    .dataframe thead th {\n",
       "        text-align: right;\n",
       "    }\n",
       "</style>\n",
       "<table border=\"1\" class=\"dataframe\">\n",
       "  <thead>\n",
       "    <tr style=\"text-align: right;\">\n",
       "      <th></th>\n",
       "      <th>Survived</th>\n",
       "      <th>Fare</th>\n",
       "      <th>Cabin_binary</th>\n",
       "      <th>sex_binary</th>\n",
       "      <th>Pclass_1</th>\n",
       "      <th>Pclass_2</th>\n",
       "      <th>Pclass_3</th>\n",
       "      <th>is_children</th>\n",
       "      <th>is_woman_over_50</th>\n",
       "      <th>high_suvived_titles</th>\n",
       "      <th>middle_suvived_titles</th>\n",
       "      <th>Name_cat_Don.</th>\n",
       "      <th>Name_cat_Jonkheer.</th>\n",
       "      <th>Name_cat_Master.</th>\n",
       "      <th>Name_cat_Miss.</th>\n",
       "      <th>Name_cat_Mr.</th>\n",
       "      <th>Name_cat_Mrs.</th>\n",
       "      <th>Name_cat_Rev.</th>\n",
       "    </tr>\n",
       "  </thead>\n",
       "  <tbody>\n",
       "    <tr>\n",
       "      <th>0</th>\n",
       "      <td>0</td>\n",
       "      <td>7.2500</td>\n",
       "      <td>0</td>\n",
       "      <td>0</td>\n",
       "      <td>0.0</td>\n",
       "      <td>0.0</td>\n",
       "      <td>1.0</td>\n",
       "      <td>0</td>\n",
       "      <td>0</td>\n",
       "      <td>0</td>\n",
       "      <td>0</td>\n",
       "      <td>0.0</td>\n",
       "      <td>0.0</td>\n",
       "      <td>0.0</td>\n",
       "      <td>0.0</td>\n",
       "      <td>1.0</td>\n",
       "      <td>0.0</td>\n",
       "      <td>0.0</td>\n",
       "    </tr>\n",
       "    <tr>\n",
       "      <th>1</th>\n",
       "      <td>1</td>\n",
       "      <td>71.2833</td>\n",
       "      <td>1</td>\n",
       "      <td>1</td>\n",
       "      <td>1.0</td>\n",
       "      <td>0.0</td>\n",
       "      <td>0.0</td>\n",
       "      <td>0</td>\n",
       "      <td>0</td>\n",
       "      <td>0</td>\n",
       "      <td>0</td>\n",
       "      <td>0.0</td>\n",
       "      <td>0.0</td>\n",
       "      <td>0.0</td>\n",
       "      <td>0.0</td>\n",
       "      <td>0.0</td>\n",
       "      <td>1.0</td>\n",
       "      <td>0.0</td>\n",
       "    </tr>\n",
       "    <tr>\n",
       "      <th>2</th>\n",
       "      <td>1</td>\n",
       "      <td>7.9250</td>\n",
       "      <td>0</td>\n",
       "      <td>1</td>\n",
       "      <td>0.0</td>\n",
       "      <td>0.0</td>\n",
       "      <td>1.0</td>\n",
       "      <td>0</td>\n",
       "      <td>0</td>\n",
       "      <td>0</td>\n",
       "      <td>0</td>\n",
       "      <td>0.0</td>\n",
       "      <td>0.0</td>\n",
       "      <td>0.0</td>\n",
       "      <td>1.0</td>\n",
       "      <td>0.0</td>\n",
       "      <td>0.0</td>\n",
       "      <td>0.0</td>\n",
       "    </tr>\n",
       "    <tr>\n",
       "      <th>3</th>\n",
       "      <td>1</td>\n",
       "      <td>53.1000</td>\n",
       "      <td>1</td>\n",
       "      <td>1</td>\n",
       "      <td>1.0</td>\n",
       "      <td>0.0</td>\n",
       "      <td>0.0</td>\n",
       "      <td>0</td>\n",
       "      <td>0</td>\n",
       "      <td>0</td>\n",
       "      <td>0</td>\n",
       "      <td>0.0</td>\n",
       "      <td>0.0</td>\n",
       "      <td>0.0</td>\n",
       "      <td>0.0</td>\n",
       "      <td>0.0</td>\n",
       "      <td>1.0</td>\n",
       "      <td>0.0</td>\n",
       "    </tr>\n",
       "    <tr>\n",
       "      <th>4</th>\n",
       "      <td>0</td>\n",
       "      <td>8.0500</td>\n",
       "      <td>0</td>\n",
       "      <td>0</td>\n",
       "      <td>0.0</td>\n",
       "      <td>0.0</td>\n",
       "      <td>1.0</td>\n",
       "      <td>0</td>\n",
       "      <td>0</td>\n",
       "      <td>0</td>\n",
       "      <td>0</td>\n",
       "      <td>0.0</td>\n",
       "      <td>0.0</td>\n",
       "      <td>0.0</td>\n",
       "      <td>0.0</td>\n",
       "      <td>1.0</td>\n",
       "      <td>0.0</td>\n",
       "      <td>0.0</td>\n",
       "    </tr>\n",
       "    <tr>\n",
       "      <th>5</th>\n",
       "      <td>0</td>\n",
       "      <td>8.4583</td>\n",
       "      <td>0</td>\n",
       "      <td>0</td>\n",
       "      <td>0.0</td>\n",
       "      <td>0.0</td>\n",
       "      <td>1.0</td>\n",
       "      <td>0</td>\n",
       "      <td>0</td>\n",
       "      <td>0</td>\n",
       "      <td>0</td>\n",
       "      <td>0.0</td>\n",
       "      <td>0.0</td>\n",
       "      <td>0.0</td>\n",
       "      <td>0.0</td>\n",
       "      <td>1.0</td>\n",
       "      <td>0.0</td>\n",
       "      <td>0.0</td>\n",
       "    </tr>\n",
       "    <tr>\n",
       "      <th>6</th>\n",
       "      <td>0</td>\n",
       "      <td>51.8625</td>\n",
       "      <td>1</td>\n",
       "      <td>0</td>\n",
       "      <td>1.0</td>\n",
       "      <td>0.0</td>\n",
       "      <td>0.0</td>\n",
       "      <td>0</td>\n",
       "      <td>0</td>\n",
       "      <td>0</td>\n",
       "      <td>0</td>\n",
       "      <td>0.0</td>\n",
       "      <td>0.0</td>\n",
       "      <td>0.0</td>\n",
       "      <td>0.0</td>\n",
       "      <td>1.0</td>\n",
       "      <td>0.0</td>\n",
       "      <td>0.0</td>\n",
       "    </tr>\n",
       "    <tr>\n",
       "      <th>7</th>\n",
       "      <td>0</td>\n",
       "      <td>21.0750</td>\n",
       "      <td>0</td>\n",
       "      <td>0</td>\n",
       "      <td>0.0</td>\n",
       "      <td>0.0</td>\n",
       "      <td>1.0</td>\n",
       "      <td>1</td>\n",
       "      <td>0</td>\n",
       "      <td>0</td>\n",
       "      <td>0</td>\n",
       "      <td>0.0</td>\n",
       "      <td>0.0</td>\n",
       "      <td>1.0</td>\n",
       "      <td>0.0</td>\n",
       "      <td>0.0</td>\n",
       "      <td>0.0</td>\n",
       "      <td>0.0</td>\n",
       "    </tr>\n",
       "    <tr>\n",
       "      <th>8</th>\n",
       "      <td>1</td>\n",
       "      <td>11.1333</td>\n",
       "      <td>0</td>\n",
       "      <td>1</td>\n",
       "      <td>0.0</td>\n",
       "      <td>0.0</td>\n",
       "      <td>1.0</td>\n",
       "      <td>0</td>\n",
       "      <td>0</td>\n",
       "      <td>0</td>\n",
       "      <td>0</td>\n",
       "      <td>0.0</td>\n",
       "      <td>0.0</td>\n",
       "      <td>0.0</td>\n",
       "      <td>0.0</td>\n",
       "      <td>0.0</td>\n",
       "      <td>1.0</td>\n",
       "      <td>0.0</td>\n",
       "    </tr>\n",
       "    <tr>\n",
       "      <th>9</th>\n",
       "      <td>1</td>\n",
       "      <td>30.0708</td>\n",
       "      <td>0</td>\n",
       "      <td>1</td>\n",
       "      <td>0.0</td>\n",
       "      <td>1.0</td>\n",
       "      <td>0.0</td>\n",
       "      <td>0</td>\n",
       "      <td>0</td>\n",
       "      <td>0</td>\n",
       "      <td>0</td>\n",
       "      <td>0.0</td>\n",
       "      <td>0.0</td>\n",
       "      <td>0.0</td>\n",
       "      <td>0.0</td>\n",
       "      <td>0.0</td>\n",
       "      <td>1.0</td>\n",
       "      <td>0.0</td>\n",
       "    </tr>\n",
       "  </tbody>\n",
       "</table>\n",
       "</div>"
      ],
      "text/plain": [
       "   Survived     Fare  Cabin_binary  sex_binary  Pclass_1  Pclass_2  Pclass_3  \\\n",
       "0         0   7.2500             0           0       0.0       0.0       1.0   \n",
       "1         1  71.2833             1           1       1.0       0.0       0.0   \n",
       "2         1   7.9250             0           1       0.0       0.0       1.0   \n",
       "3         1  53.1000             1           1       1.0       0.0       0.0   \n",
       "4         0   8.0500             0           0       0.0       0.0       1.0   \n",
       "5         0   8.4583             0           0       0.0       0.0       1.0   \n",
       "6         0  51.8625             1           0       1.0       0.0       0.0   \n",
       "7         0  21.0750             0           0       0.0       0.0       1.0   \n",
       "8         1  11.1333             0           1       0.0       0.0       1.0   \n",
       "9         1  30.0708             0           1       0.0       1.0       0.0   \n",
       "\n",
       "   is_children  is_woman_over_50  high_suvived_titles  middle_suvived_titles  \\\n",
       "0            0                 0                    0                      0   \n",
       "1            0                 0                    0                      0   \n",
       "2            0                 0                    0                      0   \n",
       "3            0                 0                    0                      0   \n",
       "4            0                 0                    0                      0   \n",
       "5            0                 0                    0                      0   \n",
       "6            0                 0                    0                      0   \n",
       "7            1                 0                    0                      0   \n",
       "8            0                 0                    0                      0   \n",
       "9            0                 0                    0                      0   \n",
       "\n",
       "   Name_cat_Don.  Name_cat_Jonkheer.  Name_cat_Master.  Name_cat_Miss.  \\\n",
       "0            0.0                 0.0               0.0             0.0   \n",
       "1            0.0                 0.0               0.0             0.0   \n",
       "2            0.0                 0.0               0.0             1.0   \n",
       "3            0.0                 0.0               0.0             0.0   \n",
       "4            0.0                 0.0               0.0             0.0   \n",
       "5            0.0                 0.0               0.0             0.0   \n",
       "6            0.0                 0.0               0.0             0.0   \n",
       "7            0.0                 0.0               1.0             0.0   \n",
       "8            0.0                 0.0               0.0             0.0   \n",
       "9            0.0                 0.0               0.0             0.0   \n",
       "\n",
       "   Name_cat_Mr.  Name_cat_Mrs.  Name_cat_Rev.  \n",
       "0           1.0            0.0            0.0  \n",
       "1           0.0            1.0            0.0  \n",
       "2           0.0            0.0            0.0  \n",
       "3           0.0            1.0            0.0  \n",
       "4           1.0            0.0            0.0  \n",
       "5           1.0            0.0            0.0  \n",
       "6           1.0            0.0            0.0  \n",
       "7           0.0            0.0            0.0  \n",
       "8           0.0            1.0            0.0  \n",
       "9           0.0            1.0            0.0  "
      ]
     },
     "execution_count": 115,
     "metadata": {},
     "output_type": "execute_result"
    }
   ],
   "source": [
    "titanic_2_df[:10]"
   ]
  },
  {
   "cell_type": "markdown",
   "metadata": {},
   "source": [
    "How we cut the dataset in train test split ? "
   ]
  },
  {
   "cell_type": "code",
   "execution_count": null,
   "metadata": {},
   "outputs": [],
   "source": [
    "train_sizes, train_scores, valid_scores = learning_curve(\n",
    "...     SVC(kernel='linear'), X, y, train_sizes=[50, 80, 110], cv=5)"
   ]
  },
  {
   "cell_type": "code",
   "execution_count": 42,
   "metadata": {},
   "outputs": [],
   "source": [
    "X = titanic_2_df.loc[:, titanic_2_df.columns != \"Survived\"]\n",
    "y = titanic_2_df[\"Survived\"]\n",
    "X_train, X_test, y_train, y_test = train_test_split(X, y, test_size=0.15)"
   ]
  },
  {
   "cell_type": "code",
   "execution_count": 44,
   "metadata": {},
   "outputs": [],
   "source": [
    "\n",
    "from sklearn.preprocessing import RobustScaler\n",
    "from sklearn.preprocessing import StandardScaler\n",
    "# For outlier\n",
    "r_scaler = RobustScaler()\n",
    "\n",
    "s_scaler = StandardScaler()\n",
    "\n",
    "mean_of_train_age = X_train.Age.mean()\n",
    "X_train.Age.fillna(mean_of_train_age, inplace=True)\n",
    "X_test.Age.fillna(mean_of_train_age, inplace=True)\n",
    "\n",
    "scaler = s_scaler.fit(X_train[[\"Age\",\"SibSp\",\"Parch\"]])\n",
    "X_train[[\"Age\",\"SibSp\",\"Parch\"]] = scaler.transform(X_train[[\"Age\",\"SibSp\",\"Parch\"]])\n",
    "X_test[[\"Age\",\"SibSp\",\"Parch\"]] =scaler.transform(X_test[[\"Age\",\"SibSp\",\"Parch\"]])\n",
    "\n",
    "scaler_robust= r_scaler.fit(X_train[[\"Fare\"]])\n",
    "X_train[[\"Fare\"]] = scaler_robust.transform(X_train[[\"Fare\"]])\n",
    "X_test[[\"Fare\"]] =scaler_robust.transform(X_test[[\"Fare\"]])\n",
    "\n"
   ]
  },
  {
   "cell_type": "code",
   "execution_count": 45,
   "metadata": {},
   "outputs": [
    {
     "data": {
      "text/html": [
       "<div>\n",
       "<style scoped>\n",
       "    .dataframe tbody tr th:only-of-type {\n",
       "        vertical-align: middle;\n",
       "    }\n",
       "\n",
       "    .dataframe tbody tr th {\n",
       "        vertical-align: top;\n",
       "    }\n",
       "\n",
       "    .dataframe thead th {\n",
       "        text-align: right;\n",
       "    }\n",
       "</style>\n",
       "<table border=\"1\" class=\"dataframe\">\n",
       "  <thead>\n",
       "    <tr style=\"text-align: right;\">\n",
       "      <th></th>\n",
       "      <th>Fare</th>\n",
       "      <th>Age</th>\n",
       "      <th>SibSp</th>\n",
       "      <th>Parch</th>\n",
       "      <th>In_cabin</th>\n",
       "      <th>0</th>\n",
       "      <th>1</th>\n",
       "      <th>2</th>\n",
       "      <th>3</th>\n",
       "      <th>4</th>\n",
       "      <th>5</th>\n",
       "      <th>6</th>\n",
       "      <th>7</th>\n",
       "      <th>8</th>\n",
       "      <th>9</th>\n",
       "      <th>10</th>\n",
       "      <th>11</th>\n",
       "      <th>12</th>\n",
       "      <th>13</th>\n",
       "      <th>14</th>\n",
       "    </tr>\n",
       "  </thead>\n",
       "  <tbody>\n",
       "    <tr>\n",
       "      <th>138</th>\n",
       "      <td>-0.228811</td>\n",
       "      <td>-1.078074e+00</td>\n",
       "      <td>-0.462861</td>\n",
       "      <td>-0.468782</td>\n",
       "      <td>0</td>\n",
       "      <td>0.0</td>\n",
       "      <td>0.0</td>\n",
       "      <td>1.0</td>\n",
       "      <td>0.0</td>\n",
       "      <td>0.0</td>\n",
       "      <td>0.0</td>\n",
       "      <td>1.0</td>\n",
       "      <td>0.0</td>\n",
       "      <td>0.0</td>\n",
       "      <td>0.0</td>\n",
       "      <td>0.0</td>\n",
       "      <td>0.0</td>\n",
       "      <td>0.0</td>\n",
       "      <td>1.0</td>\n",
       "      <td>0.0</td>\n",
       "    </tr>\n",
       "    <tr>\n",
       "      <th>793</th>\n",
       "      <td>0.719361</td>\n",
       "      <td>-2.270344e-16</td>\n",
       "      <td>-0.462861</td>\n",
       "      <td>-0.468782</td>\n",
       "      <td>0</td>\n",
       "      <td>1.0</td>\n",
       "      <td>0.0</td>\n",
       "      <td>0.0</td>\n",
       "      <td>0.0</td>\n",
       "      <td>0.0</td>\n",
       "      <td>0.0</td>\n",
       "      <td>1.0</td>\n",
       "      <td>0.0</td>\n",
       "      <td>0.0</td>\n",
       "      <td>0.0</td>\n",
       "      <td>0.0</td>\n",
       "      <td>1.0</td>\n",
       "      <td>0.0</td>\n",
       "      <td>0.0</td>\n",
       "      <td>0.0</td>\n",
       "    </tr>\n",
       "    <tr>\n",
       "      <th>609</th>\n",
       "      <td>6.138771</td>\n",
       "      <td>8.062639e-01</td>\n",
       "      <td>-0.462861</td>\n",
       "      <td>-0.468782</td>\n",
       "      <td>1</td>\n",
       "      <td>1.0</td>\n",
       "      <td>0.0</td>\n",
       "      <td>0.0</td>\n",
       "      <td>0.0</td>\n",
       "      <td>0.0</td>\n",
       "      <td>1.0</td>\n",
       "      <td>0.0</td>\n",
       "      <td>0.0</td>\n",
       "      <td>0.0</td>\n",
       "      <td>0.0</td>\n",
       "      <td>0.0</td>\n",
       "      <td>0.0</td>\n",
       "      <td>0.0</td>\n",
       "      <td>1.0</td>\n",
       "      <td>0.0</td>\n",
       "    </tr>\n",
       "    <tr>\n",
       "      <th>3</th>\n",
       "      <td>1.708372</td>\n",
       "      <td>4.136934e-01</td>\n",
       "      <td>0.432675</td>\n",
       "      <td>-0.468782</td>\n",
       "      <td>1</td>\n",
       "      <td>1.0</td>\n",
       "      <td>0.0</td>\n",
       "      <td>0.0</td>\n",
       "      <td>0.0</td>\n",
       "      <td>0.0</td>\n",
       "      <td>0.0</td>\n",
       "      <td>0.0</td>\n",
       "      <td>1.0</td>\n",
       "      <td>0.0</td>\n",
       "      <td>0.0</td>\n",
       "      <td>0.0</td>\n",
       "      <td>0.0</td>\n",
       "      <td>0.0</td>\n",
       "      <td>1.0</td>\n",
       "      <td>0.0</td>\n",
       "    </tr>\n",
       "    <tr>\n",
       "      <th>278</th>\n",
       "      <td>0.650020</td>\n",
       "      <td>-1.784701e+00</td>\n",
       "      <td>3.119282</td>\n",
       "      <td>0.753829</td>\n",
       "      <td>0</td>\n",
       "      <td>0.0</td>\n",
       "      <td>0.0</td>\n",
       "      <td>1.0</td>\n",
       "      <td>0.0</td>\n",
       "      <td>1.0</td>\n",
       "      <td>0.0</td>\n",
       "      <td>0.0</td>\n",
       "      <td>0.0</td>\n",
       "      <td>0.0</td>\n",
       "      <td>0.0</td>\n",
       "      <td>0.0</td>\n",
       "      <td>0.0</td>\n",
       "      <td>1.0</td>\n",
       "      <td>0.0</td>\n",
       "      <td>0.0</td>\n",
       "    </tr>\n",
       "    <tr>\n",
       "      <th>...</th>\n",
       "      <td>...</td>\n",
       "      <td>...</td>\n",
       "      <td>...</td>\n",
       "      <td>...</td>\n",
       "      <td>...</td>\n",
       "      <td>...</td>\n",
       "      <td>...</td>\n",
       "      <td>...</td>\n",
       "      <td>...</td>\n",
       "      <td>...</td>\n",
       "      <td>...</td>\n",
       "      <td>...</td>\n",
       "      <td>...</td>\n",
       "      <td>...</td>\n",
       "      <td>...</td>\n",
       "      <td>...</td>\n",
       "      <td>...</td>\n",
       "      <td>...</td>\n",
       "      <td>...</td>\n",
       "      <td>...</td>\n",
       "    </tr>\n",
       "    <tr>\n",
       "      <th>381</th>\n",
       "      <td>0.059228</td>\n",
       "      <td>-2.255786e+00</td>\n",
       "      <td>-0.462861</td>\n",
       "      <td>1.976441</td>\n",
       "      <td>0</td>\n",
       "      <td>0.0</td>\n",
       "      <td>0.0</td>\n",
       "      <td>1.0</td>\n",
       "      <td>0.0</td>\n",
       "      <td>0.0</td>\n",
       "      <td>1.0</td>\n",
       "      <td>0.0</td>\n",
       "      <td>0.0</td>\n",
       "      <td>0.0</td>\n",
       "      <td>0.0</td>\n",
       "      <td>0.0</td>\n",
       "      <td>1.0</td>\n",
       "      <td>0.0</td>\n",
       "      <td>0.0</td>\n",
       "      <td>0.0</td>\n",
       "    </tr>\n",
       "    <tr>\n",
       "      <th>451</th>\n",
       "      <td>0.245736</td>\n",
       "      <td>-2.270344e-16</td>\n",
       "      <td>0.432675</td>\n",
       "      <td>-0.468782</td>\n",
       "      <td>0</td>\n",
       "      <td>0.0</td>\n",
       "      <td>0.0</td>\n",
       "      <td>1.0</td>\n",
       "      <td>0.0</td>\n",
       "      <td>0.0</td>\n",
       "      <td>0.0</td>\n",
       "      <td>1.0</td>\n",
       "      <td>0.0</td>\n",
       "      <td>0.0</td>\n",
       "      <td>0.0</td>\n",
       "      <td>0.0</td>\n",
       "      <td>0.0</td>\n",
       "      <td>0.0</td>\n",
       "      <td>1.0</td>\n",
       "      <td>0.0</td>\n",
       "    </tr>\n",
       "    <tr>\n",
       "      <th>6</th>\n",
       "      <td>1.653744</td>\n",
       "      <td>1.905461e+00</td>\n",
       "      <td>-0.462861</td>\n",
       "      <td>-0.468782</td>\n",
       "      <td>1</td>\n",
       "      <td>1.0</td>\n",
       "      <td>0.0</td>\n",
       "      <td>0.0</td>\n",
       "      <td>0.0</td>\n",
       "      <td>0.0</td>\n",
       "      <td>0.0</td>\n",
       "      <td>1.0</td>\n",
       "      <td>0.0</td>\n",
       "      <td>0.0</td>\n",
       "      <td>0.0</td>\n",
       "      <td>0.0</td>\n",
       "      <td>0.0</td>\n",
       "      <td>0.0</td>\n",
       "      <td>1.0</td>\n",
       "      <td>0.0</td>\n",
       "    </tr>\n",
       "    <tr>\n",
       "      <th>820</th>\n",
       "      <td>3.491788</td>\n",
       "      <td>1.748433e+00</td>\n",
       "      <td>0.432675</td>\n",
       "      <td>0.753829</td>\n",
       "      <td>1</td>\n",
       "      <td>1.0</td>\n",
       "      <td>0.0</td>\n",
       "      <td>0.0</td>\n",
       "      <td>0.0</td>\n",
       "      <td>0.0</td>\n",
       "      <td>0.0</td>\n",
       "      <td>0.0</td>\n",
       "      <td>1.0</td>\n",
       "      <td>0.0</td>\n",
       "      <td>0.0</td>\n",
       "      <td>0.0</td>\n",
       "      <td>0.0</td>\n",
       "      <td>0.0</td>\n",
       "      <td>1.0</td>\n",
       "      <td>0.0</td>\n",
       "    </tr>\n",
       "    <tr>\n",
       "      <th>251</th>\n",
       "      <td>-0.173817</td>\n",
       "      <td>-5.739118e-02</td>\n",
       "      <td>0.432675</td>\n",
       "      <td>0.753829</td>\n",
       "      <td>1</td>\n",
       "      <td>0.0</td>\n",
       "      <td>0.0</td>\n",
       "      <td>1.0</td>\n",
       "      <td>0.0</td>\n",
       "      <td>0.0</td>\n",
       "      <td>0.0</td>\n",
       "      <td>0.0</td>\n",
       "      <td>1.0</td>\n",
       "      <td>0.0</td>\n",
       "      <td>0.0</td>\n",
       "      <td>0.0</td>\n",
       "      <td>0.0</td>\n",
       "      <td>0.0</td>\n",
       "      <td>1.0</td>\n",
       "      <td>0.0</td>\n",
       "    </tr>\n",
       "  </tbody>\n",
       "</table>\n",
       "<p>712 rows × 20 columns</p>\n",
       "</div>"
      ],
      "text/plain": [
       "         Fare           Age     SibSp     Parch  In_cabin    0    1    2    3  \\\n",
       "138 -0.228811 -1.078074e+00 -0.462861 -0.468782         0  0.0  0.0  1.0  0.0   \n",
       "793  0.719361 -2.270344e-16 -0.462861 -0.468782         0  1.0  0.0  0.0  0.0   \n",
       "609  6.138771  8.062639e-01 -0.462861 -0.468782         1  1.0  0.0  0.0  0.0   \n",
       "3    1.708372  4.136934e-01  0.432675 -0.468782         1  1.0  0.0  0.0  0.0   \n",
       "278  0.650020 -1.784701e+00  3.119282  0.753829         0  0.0  0.0  1.0  0.0   \n",
       "..        ...           ...       ...       ...       ...  ...  ...  ...  ...   \n",
       "381  0.059228 -2.255786e+00 -0.462861  1.976441         0  0.0  0.0  1.0  0.0   \n",
       "451  0.245736 -2.270344e-16  0.432675 -0.468782         0  0.0  0.0  1.0  0.0   \n",
       "6    1.653744  1.905461e+00 -0.462861 -0.468782         1  1.0  0.0  0.0  0.0   \n",
       "820  3.491788  1.748433e+00  0.432675  0.753829         1  1.0  0.0  0.0  0.0   \n",
       "251 -0.173817 -5.739118e-02  0.432675  0.753829         1  0.0  0.0  1.0  0.0   \n",
       "\n",
       "       4    5    6    7    8    9   10   11   12   13   14  \n",
       "138  0.0  0.0  1.0  0.0  0.0  0.0  0.0  0.0  0.0  1.0  0.0  \n",
       "793  0.0  0.0  1.0  0.0  0.0  0.0  0.0  1.0  0.0  0.0  0.0  \n",
       "609  0.0  1.0  0.0  0.0  0.0  0.0  0.0  0.0  0.0  1.0  0.0  \n",
       "3    0.0  0.0  0.0  1.0  0.0  0.0  0.0  0.0  0.0  1.0  0.0  \n",
       "278  1.0  0.0  0.0  0.0  0.0  0.0  0.0  0.0  1.0  0.0  0.0  \n",
       "..   ...  ...  ...  ...  ...  ...  ...  ...  ...  ...  ...  \n",
       "381  0.0  1.0  0.0  0.0  0.0  0.0  0.0  1.0  0.0  0.0  0.0  \n",
       "451  0.0  0.0  1.0  0.0  0.0  0.0  0.0  0.0  0.0  1.0  0.0  \n",
       "6    0.0  0.0  1.0  0.0  0.0  0.0  0.0  0.0  0.0  1.0  0.0  \n",
       "820  0.0  0.0  0.0  1.0  0.0  0.0  0.0  0.0  0.0  1.0  0.0  \n",
       "251  0.0  0.0  0.0  1.0  0.0  0.0  0.0  0.0  0.0  1.0  0.0  \n",
       "\n",
       "[712 rows x 20 columns]"
      ]
     },
     "execution_count": 45,
     "metadata": {},
     "output_type": "execute_result"
    }
   ],
   "source": [
    "X_train"
   ]
  },
  {
   "cell_type": "code",
   "execution_count": 46,
   "metadata": {},
   "outputs": [
    {
     "data": {
      "image/png": "[encoded data removed]",
      "text/plain": [
       "<Figure size 432x288 with 2 Axes>"
      ]
     },
     "metadata": {
      "needs_background": "light"
     },
     "output_type": "display_data"
    }
   ],
   "source": [
    "dataplot = sns.heatmap(X_train.corr(), cmap=\"YlGnBu\", annot=True)\n"
   ]
  },
  {
   "cell_type": "code",
   "execution_count": 48,
   "metadata": {},
   "outputs": [
    {
     "name": "stdout",
     "output_type": "stream",
     "text": [
      "resultat de la moyenne des cross validation : 0.8427853836304541\n"
     ]
    },
    {
     "name": "stderr",
     "output_type": "stream",
     "text": [
      "/Users/christopherdeboisvilliers/.pyenv/versions/lewagon/lib/python3.8/site-packages/sklearn/utils/validation.py:1688: FutureWarning: Feature names only support names that are all strings. Got feature names with dtypes: ['int', 'str']. An error will be raised in 1.2.\n",
      "  warnings.warn(\n",
      "/Users/christopherdeboisvilliers/.pyenv/versions/lewagon/lib/python3.8/site-packages/sklearn/utils/validation.py:1688: FutureWarning: Feature names only support names that are all strings. Got feature names with dtypes: ['int', 'str']. An error will be raised in 1.2.\n",
      "  warnings.warn(\n",
      "/Users/christopherdeboisvilliers/.pyenv/versions/lewagon/lib/python3.8/site-packages/sklearn/utils/validation.py:1688: FutureWarning: Feature names only support names that are all strings. Got feature names with dtypes: ['int', 'str']. An error will be raised in 1.2.\n",
      "  warnings.warn(\n",
      "/Users/christopherdeboisvilliers/.pyenv/versions/lewagon/lib/python3.8/site-packages/sklearn/utils/validation.py:1688: FutureWarning: Feature names only support names that are all strings. Got feature names with dtypes: ['int', 'str']. An error will be raised in 1.2.\n",
      "  warnings.warn(\n",
      "/Users/christopherdeboisvilliers/.pyenv/versions/lewagon/lib/python3.8/site-packages/sklearn/utils/validation.py:1688: FutureWarning: Feature names only support names that are all strings. Got feature names with dtypes: ['int', 'str']. An error will be raised in 1.2.\n",
      "  warnings.warn(\n",
      "/Users/christopherdeboisvilliers/.pyenv/versions/lewagon/lib/python3.8/site-packages/sklearn/utils/validation.py:1688: FutureWarning: Feature names only support names that are all strings. Got feature names with dtypes: ['int', 'str']. An error will be raised in 1.2.\n",
      "  warnings.warn(\n",
      "/Users/christopherdeboisvilliers/.pyenv/versions/lewagon/lib/python3.8/site-packages/sklearn/utils/validation.py:1688: FutureWarning: Feature names only support names that are all strings. Got feature names with dtypes: ['int', 'str']. An error will be raised in 1.2.\n",
      "  warnings.warn(\n",
      "/Users/christopherdeboisvilliers/.pyenv/versions/lewagon/lib/python3.8/site-packages/sklearn/utils/validation.py:1688: FutureWarning: Feature names only support names that are all strings. Got feature names with dtypes: ['int', 'str']. An error will be raised in 1.2.\n",
      "  warnings.warn(\n",
      "/Users/christopherdeboisvilliers/.pyenv/versions/lewagon/lib/python3.8/site-packages/sklearn/utils/validation.py:1688: FutureWarning: Feature names only support names that are all strings. Got feature names with dtypes: ['int', 'str']. An error will be raised in 1.2.\n",
      "  warnings.warn(\n",
      "/Users/christopherdeboisvilliers/.pyenv/versions/lewagon/lib/python3.8/site-packages/sklearn/utils/validation.py:1688: FutureWarning: Feature names only support names that are all strings. Got feature names with dtypes: ['int', 'str']. An error will be raised in 1.2.\n",
      "  warnings.warn(\n"
     ]
    }
   ],
   "source": [
    "model = LogisticRegression()\n",
    "cv_results = cross_validate(model, X_train,y_train,cv=5)\n",
    "result = cv_results[\"test_score\"].mean()\n",
    "print(f\"resultat de la moyenne des cross validation : {result}\")"
   ]
  },
  {
   "cell_type": "code",
   "execution_count": 94,
   "metadata": {},
   "outputs": [
    {
     "name": "stderr",
     "output_type": "stream",
     "text": [
      "/Users/christopherdeboisvilliers/.pyenv/versions/lewagon/lib/python3.8/site-packages/seaborn/_decorators.py:36: FutureWarning: Pass the following variables as keyword args: x, y. From version 0.12, the only valid positional argument will be `data`, and passing other arguments without an explicit keyword will result in an error or misinterpretation.\n",
      "  warnings.warn(\n",
      "/Users/christopherdeboisvilliers/.pyenv/versions/lewagon/lib/python3.8/site-packages/seaborn/_decorators.py:36: FutureWarning: Pass the following variables as keyword args: x, y. From version 0.12, the only valid positional argument will be `data`, and passing other arguments without an explicit keyword will result in an error or misinterpretation.\n",
      "  warnings.warn(\n"
     ]
    },
    {
     "data": {
      "text/plain": [
       "<AxesSubplot:>"
      ]
     },
     "execution_count": 94,
     "metadata": {},
     "output_type": "execute_result"
    },
    {
     "data": {
      "image/png": "[encoded data removed]",
      "text/plain": [
       "<Figure size 432x288 with 1 Axes>"
      ]
     },
     "metadata": {
      "needs_background": "light"
     },
     "output_type": "display_data"
    }
   ],
   "source": [
    "train_sizes = [1,25,50,100,150,200,300,400,500,712]\n",
    "train_sizes, train_scores, test_scores = learning_curve(estimator = LogisticRegression(max_iter=1000),X=X,y=y,\\\n",
    "                train_sizes=train_sizes, cv=10)\n",
    "train_scores_mean = np.mean(train_scores,axis=1)\n",
    "test_scores_mean = np.mean(test_scores,axis=1)\n",
    "sns.lineplot(train_sizes, train_scores_mean, label=\"train\")\n",
    "sns.lineplot(train_sizes, test_scores_mean, label=\"test\")"
   ]
  },
  {
   "cell_type": "markdown",
   "metadata": {},
   "source": [
    "#### Check deep learning to predict class survived or not"
   ]
  },
  {
   "cell_type": "code",
   "execution_count": 95,
   "metadata": {},
   "outputs": [],
   "source": [
    "# Tensorflow for machine learning\n",
    "# import tensorflow as tf\n",
    "import swifter\n",
    "# Numpy and pandas for dataset manipulation\n",
    "import numpy as np\n",
    "import pandas as pd\n",
    "#Seaborn and matplotlib to make graphics \n",
    "import seaborn as sns\n",
    "import matplotlib.pyplot as plt\n",
    "\n",
    "#Skelarn metrics to get confusion matrix and classification report\n",
    "from sklearn.metrics import confusion_matrix\n",
    "from sklearn.metrics import classification_report\n",
    "\n",
    "# Shuffle sklearn lib to  mixing train dataset X and y\n",
    "from sklearn.utils import shuffle"
   ]
  },
  {
   "cell_type": "code",
   "execution_count": 51,
   "metadata": {},
   "outputs": [],
   "source": [
    "def plot_get_conf_learning(model,history, X_test, y_test ):\n",
    "    \n",
    "    # Predict class for X_test\n",
    "    predictions = model.predict(X_test)\n",
    "    # Affect class\n",
    "    y_mean_pred = [1 * (x[0]>=0.5) for x in predictions]\n",
    "    # Create confusion matrix\n",
    "    cf_matrix = confusion_matrix( y_test, y_mean_pred)\n",
    "\n",
    "    #Create subplot\n",
    "    fig, axes = plt.subplots(1, 2,  figsize=(15,4))\n",
    "\n",
    "    # Confusion matrix plotting\n",
    "    axes[0].set_title(' Confusion Matrix with labels\\n\\n');\n",
    "    sns.heatmap(ax =axes[0], data = cf_matrix, annot=True, cmap='Reds')\n",
    "\n",
    "\n",
    "    # Learning curves plotting\n",
    "    loss = history.history[\"loss\"]\n",
    "    loss_val = history.history[\"val_loss\"]\n",
    "    sns.lineplot(ax=axes[1],data =[loss,loss_val])\n",
    "    axes[1].set_title('Learning curves \\n\\n')\n",
    "    axes[1].legend(labels=[\"Train set\",\"Test set\"], title = \"Learning curves\")\n",
    "    \n",
    "    #Print classification report\n",
    "    print(classification_report(y_test, y_mean_pred))\n",
    "    #Show graphics\n",
    "    return plt.show()"
   ]
  },
  {
   "cell_type": "code",
   "execution_count": 99,
   "metadata": {},
   "outputs": [],
   "source": [
    "from tensorflow.keras import layers\n",
    "from tensorflow.keras import models\n",
    "from tensorflow.keras.optimizers import RMSprop\n",
    "\n",
    "def init_model():\n",
    "    # opt = RMSprop(lr=0.0001, decay=1e-6)\n",
    "    model = models.Sequential()\n",
    "    neurons = 8\n",
    "    model.add(layers.Dense(4, activation='linear'))\n",
    "    model.add(layers.Dropout(0.01))\n",
    "    model.add(layers.Dense(4, activation='linear', kernel_regularizer='l1'))\n",
    "    model.add(layers.Dropout(0.01))\n",
    "    model.add(layers.Dense(1, activation='sigmoid'))\n",
    "    model.compile(loss='binary_crossentropy', \n",
    "                  optimizer=\"adam\", \n",
    "                  metrics=['accuracy'])\n",
    "    return model"
   ]
  },
  {
   "cell_type": "code",
   "execution_count": 100,
   "metadata": {},
   "outputs": [
    {
     "name": "stdout",
     "output_type": "stream",
     "text": [
      "Epoch 1/2000\n",
      "527/527 [==============================] - 1s 858us/step - loss: 0.6896 - accuracy: 0.6793 - val_loss: 0.6795 - val_accuracy: 0.6344\n",
      "Epoch 2/2000\n",
      "527/527 [==============================] - 0s 510us/step - loss: 0.6030 - accuracy: 0.7628 - val_loss: 0.5858 - val_accuracy: 0.7419\n",
      "Epoch 3/2000\n",
      "527/527 [==============================] - 0s 486us/step - loss: 0.5303 - accuracy: 0.8140 - val_loss: 0.5214 - val_accuracy: 0.8065\n",
      "Epoch 4/2000\n",
      "527/527 [==============================] - 0s 581us/step - loss: 0.4886 - accuracy: 0.8254 - val_loss: 0.4990 - val_accuracy: 0.8065\n",
      "Epoch 5/2000\n",
      "527/527 [==============================] - 0s 471us/step - loss: 0.4798 - accuracy: 0.8235 - val_loss: 0.4922 - val_accuracy: 0.8065\n",
      "Epoch 6/2000\n",
      "527/527 [==============================] - 0s 473us/step - loss: 0.4718 - accuracy: 0.8197 - val_loss: 0.4918 - val_accuracy: 0.8065\n",
      "Epoch 7/2000\n",
      "527/527 [==============================] - 0s 484us/step - loss: 0.4706 - accuracy: 0.8216 - val_loss: 0.5008 - val_accuracy: 0.8065\n",
      "Epoch 8/2000\n",
      "527/527 [==============================] - 0s 508us/step - loss: 0.4655 - accuracy: 0.8254 - val_loss: 0.4878 - val_accuracy: 0.8065\n",
      "Epoch 9/2000\n",
      "527/527 [==============================] - 0s 480us/step - loss: 0.4663 - accuracy: 0.8254 - val_loss: 0.4995 - val_accuracy: 0.8065\n",
      "Epoch 10/2000\n",
      "527/527 [==============================] - 0s 564us/step - loss: 0.4618 - accuracy: 0.8254 - val_loss: 0.4886 - val_accuracy: 0.8065\n",
      "Epoch 11/2000\n",
      "527/527 [==============================] - 0s 479us/step - loss: 0.4573 - accuracy: 0.8273 - val_loss: 0.4863 - val_accuracy: 0.8065\n",
      "Epoch 12/2000\n",
      "527/527 [==============================] - 0s 519us/step - loss: 0.4606 - accuracy: 0.8254 - val_loss: 0.4866 - val_accuracy: 0.8065\n",
      "Epoch 13/2000\n",
      "527/527 [==============================] - 0s 513us/step - loss: 0.4577 - accuracy: 0.8254 - val_loss: 0.4872 - val_accuracy: 0.8065\n",
      "Epoch 14/2000\n",
      "527/527 [==============================] - 0s 474us/step - loss: 0.4637 - accuracy: 0.8254 - val_loss: 0.4946 - val_accuracy: 0.8065\n",
      "Epoch 15/2000\n",
      "527/527 [==============================] - 0s 568us/step - loss: 0.4593 - accuracy: 0.8254 - val_loss: 0.4835 - val_accuracy: 0.8065\n",
      "Epoch 16/2000\n",
      "527/527 [==============================] - 0s 607us/step - loss: 0.4513 - accuracy: 0.8311 - val_loss: 0.4977 - val_accuracy: 0.8065\n",
      "Epoch 17/2000\n",
      "527/527 [==============================] - 0s 555us/step - loss: 0.4566 - accuracy: 0.8254 - val_loss: 0.4815 - val_accuracy: 0.8065\n",
      "Epoch 18/2000\n",
      "527/527 [==============================] - 0s 545us/step - loss: 0.4560 - accuracy: 0.8254 - val_loss: 0.4916 - val_accuracy: 0.8065\n",
      "Epoch 19/2000\n",
      "527/527 [==============================] - 0s 764us/step - loss: 0.4507 - accuracy: 0.8273 - val_loss: 0.4928 - val_accuracy: 0.8065\n",
      "Epoch 20/2000\n",
      "527/527 [==============================] - 0s 666us/step - loss: 0.4547 - accuracy: 0.8254 - val_loss: 0.4870 - val_accuracy: 0.8065\n",
      "Epoch 21/2000\n",
      "527/527 [==============================] - 0s 661us/step - loss: 0.4522 - accuracy: 0.8254 - val_loss: 0.4839 - val_accuracy: 0.8065\n",
      "Epoch 22/2000\n",
      "527/527 [==============================] - 0s 904us/step - loss: 0.4527 - accuracy: 0.8235 - val_loss: 0.4931 - val_accuracy: 0.8065\n",
      "Epoch 23/2000\n",
      "527/527 [==============================] - 0s 856us/step - loss: 0.4550 - accuracy: 0.8292 - val_loss: 0.4843 - val_accuracy: 0.8065\n",
      "Epoch 24/2000\n",
      "527/527 [==============================] - 0s 525us/step - loss: 0.4544 - accuracy: 0.8254 - val_loss: 0.4819 - val_accuracy: 0.8065\n",
      "Epoch 25/2000\n",
      "527/527 [==============================] - 0s 561us/step - loss: 0.4543 - accuracy: 0.8235 - val_loss: 0.4888 - val_accuracy: 0.8065\n",
      "Epoch 26/2000\n",
      "527/527 [==============================] - 0s 569us/step - loss: 0.4561 - accuracy: 0.8254 - val_loss: 0.4882 - val_accuracy: 0.8065\n",
      "Epoch 27/2000\n",
      "527/527 [==============================] - 0s 587us/step - loss: 0.4562 - accuracy: 0.8197 - val_loss: 0.4823 - val_accuracy: 0.8065\n",
      "Epoch 28/2000\n",
      "527/527 [==============================] - 0s 728us/step - loss: 0.4515 - accuracy: 0.8273 - val_loss: 0.4843 - val_accuracy: 0.8065\n",
      "Epoch 29/2000\n",
      "527/527 [==============================] - 0s 637us/step - loss: 0.4552 - accuracy: 0.8178 - val_loss: 0.4842 - val_accuracy: 0.8065\n",
      "Epoch 30/2000\n",
      "527/527 [==============================] - 0s 466us/step - loss: 0.4445 - accuracy: 0.8273 - val_loss: 0.4959 - val_accuracy: 0.8065\n",
      "Epoch 31/2000\n",
      "527/527 [==============================] - 0s 467us/step - loss: 0.4523 - accuracy: 0.8254 - val_loss: 0.4867 - val_accuracy: 0.8065\n",
      "Epoch 32/2000\n",
      "527/527 [==============================] - 0s 533us/step - loss: 0.4477 - accuracy: 0.8254 - val_loss: 0.4908 - val_accuracy: 0.8065\n",
      "Epoch 33/2000\n",
      "527/527 [==============================] - 0s 493us/step - loss: 0.4504 - accuracy: 0.8254 - val_loss: 0.4887 - val_accuracy: 0.8065\n",
      "Epoch 34/2000\n",
      "527/527 [==============================] - 0s 483us/step - loss: 0.4558 - accuracy: 0.8235 - val_loss: 0.4895 - val_accuracy: 0.8065\n",
      "Epoch 35/2000\n",
      "527/527 [==============================] - 0s 481us/step - loss: 0.4515 - accuracy: 0.8235 - val_loss: 0.4926 - val_accuracy: 0.8065\n",
      "Epoch 36/2000\n",
      "527/527 [==============================] - 0s 457us/step - loss: 0.4491 - accuracy: 0.8235 - val_loss: 0.4816 - val_accuracy: 0.8065\n",
      "Epoch 37/2000\n",
      "527/527 [==============================] - 0s 581us/step - loss: 0.4519 - accuracy: 0.8273 - val_loss: 0.4902 - val_accuracy: 0.8065\n",
      "Epoch 38/2000\n",
      "527/527 [==============================] - 0s 466us/step - loss: 0.4546 - accuracy: 0.8197 - val_loss: 0.4811 - val_accuracy: 0.8065\n",
      "Epoch 39/2000\n",
      "527/527 [==============================] - 0s 621us/step - loss: 0.4513 - accuracy: 0.8254 - val_loss: 0.4855 - val_accuracy: 0.8065\n",
      "Epoch 40/2000\n",
      "527/527 [==============================] - 0s 492us/step - loss: 0.4507 - accuracy: 0.8254 - val_loss: 0.4895 - val_accuracy: 0.8065\n",
      "Epoch 41/2000\n",
      "527/527 [==============================] - 0s 530us/step - loss: 0.4457 - accuracy: 0.8254 - val_loss: 0.4827 - val_accuracy: 0.8065\n",
      "Epoch 42/2000\n",
      "527/527 [==============================] - 0s 495us/step - loss: 0.4489 - accuracy: 0.8197 - val_loss: 0.4941 - val_accuracy: 0.8065\n",
      "Epoch 43/2000\n",
      "527/527 [==============================] - 0s 521us/step - loss: 0.4518 - accuracy: 0.8197 - val_loss: 0.4818 - val_accuracy: 0.8065\n",
      "Epoch 44/2000\n",
      "527/527 [==============================] - 0s 502us/step - loss: 0.4536 - accuracy: 0.8216 - val_loss: 0.4800 - val_accuracy: 0.8065\n",
      "Epoch 45/2000\n",
      "527/527 [==============================] - 0s 563us/step - loss: 0.4461 - accuracy: 0.8292 - val_loss: 0.4773 - val_accuracy: 0.8065\n",
      "Epoch 46/2000\n",
      "527/527 [==============================] - 1s 1ms/step - loss: 0.4530 - accuracy: 0.8178 - val_loss: 0.4869 - val_accuracy: 0.8065\n",
      "Epoch 47/2000\n",
      "527/527 [==============================] - 0s 510us/step - loss: 0.4516 - accuracy: 0.8178 - val_loss: 0.4838 - val_accuracy: 0.8065\n",
      "Epoch 48/2000\n",
      "474/527 [=========================>....] - ETA: 0s - loss: 0.4525 - accuracy: 0.8249"
     ]
    },
    {
     "ename": "KeyboardInterrupt",
     "evalue": "",
     "output_type": "error",
     "traceback": [
      "\u001b[0;31m---------------------------------------------------------------------------\u001b[0m",
      "\u001b[0;31mKeyboardInterrupt\u001b[0m                         Traceback (most recent call last)",
      "\u001b[0;32m/var/folders/k9/1xvg6x991594dlshm5qcjr7w0000gn/T/ipykernel_25937/369746027.py\u001b[0m in \u001b[0;36m<module>\u001b[0;34m\u001b[0m\n\u001b[1;32m      8\u001b[0m \u001b[0;34m\u001b[0m\u001b[0m\n\u001b[1;32m      9\u001b[0m \u001b[0;31m#Start training the neural network\u001b[0m\u001b[0;34m\u001b[0m\u001b[0;34m\u001b[0m\u001b[0;34m\u001b[0m\u001b[0m\n\u001b[0;32m---> 10\u001b[0;31m history_mean_v1 = model_mean_v1.fit(X_train, y_train, \n\u001b[0m\u001b[1;32m     11\u001b[0m           \u001b[0mepochs\u001b[0m\u001b[0;34m=\u001b[0m\u001b[0;36m2000\u001b[0m\u001b[0;34m,\u001b[0m\u001b[0;34m\u001b[0m\u001b[0;34m\u001b[0m\u001b[0m\n\u001b[1;32m     12\u001b[0m           \u001b[0mbatch_size\u001b[0m\u001b[0;34m=\u001b[0m\u001b[0;36m1\u001b[0m\u001b[0;34m,\u001b[0m\u001b[0;34m\u001b[0m\u001b[0;34m\u001b[0m\u001b[0m\n",
      "\u001b[0;32m~/.pyenv/versions/lewagon/lib/python3.8/site-packages/tensorflow/python/keras/engine/training.py\u001b[0m in \u001b[0;36mfit\u001b[0;34m(self, x, y, batch_size, epochs, verbose, callbacks, validation_split, validation_data, shuffle, class_weight, sample_weight, initial_epoch, steps_per_epoch, validation_steps, validation_batch_size, validation_freq, max_queue_size, workers, use_multiprocessing)\u001b[0m\n\u001b[1;32m   1212\u001b[0m                 \u001b[0mmodel\u001b[0m\u001b[0;34m=\u001b[0m\u001b[0mself\u001b[0m\u001b[0;34m,\u001b[0m\u001b[0;34m\u001b[0m\u001b[0;34m\u001b[0m\u001b[0m\n\u001b[1;32m   1213\u001b[0m                 steps_per_execution=self._steps_per_execution)\n\u001b[0;32m-> 1214\u001b[0;31m           val_logs = self.evaluate(\n\u001b[0m\u001b[1;32m   1215\u001b[0m               \u001b[0mx\u001b[0m\u001b[0;34m=\u001b[0m\u001b[0mval_x\u001b[0m\u001b[0;34m,\u001b[0m\u001b[0;34m\u001b[0m\u001b[0;34m\u001b[0m\u001b[0m\n\u001b[1;32m   1216\u001b[0m               \u001b[0my\u001b[0m\u001b[0;34m=\u001b[0m\u001b[0mval_y\u001b[0m\u001b[0;34m,\u001b[0m\u001b[0;34m\u001b[0m\u001b[0;34m\u001b[0m\u001b[0m\n",
      "\u001b[0;32m~/.pyenv/versions/lewagon/lib/python3.8/site-packages/tensorflow/python/keras/engine/training.py\u001b[0m in \u001b[0;36mevaluate\u001b[0;34m(self, x, y, batch_size, verbose, sample_weight, steps, callbacks, max_queue_size, workers, use_multiprocessing, return_dict, **kwargs)\u001b[0m\n\u001b[1;32m   1481\u001b[0m       \u001b[0mself\u001b[0m\u001b[0;34m.\u001b[0m\u001b[0m_test_counter\u001b[0m\u001b[0;34m.\u001b[0m\u001b[0massign\u001b[0m\u001b[0;34m(\u001b[0m\u001b[0;36m0\u001b[0m\u001b[0;34m)\u001b[0m\u001b[0;34m\u001b[0m\u001b[0;34m\u001b[0m\u001b[0m\n\u001b[1;32m   1482\u001b[0m       \u001b[0mcallbacks\u001b[0m\u001b[0;34m.\u001b[0m\u001b[0mon_test_begin\u001b[0m\u001b[0;34m(\u001b[0m\u001b[0;34m)\u001b[0m\u001b[0;34m\u001b[0m\u001b[0;34m\u001b[0m\u001b[0m\n\u001b[0;32m-> 1483\u001b[0;31m       \u001b[0;32mfor\u001b[0m \u001b[0m_\u001b[0m\u001b[0;34m,\u001b[0m \u001b[0miterator\u001b[0m \u001b[0;32min\u001b[0m \u001b[0mdata_handler\u001b[0m\u001b[0;34m.\u001b[0m\u001b[0menumerate_epochs\u001b[0m\u001b[0;34m(\u001b[0m\u001b[0;34m)\u001b[0m\u001b[0;34m:\u001b[0m  \u001b[0;31m# Single epoch.\u001b[0m\u001b[0;34m\u001b[0m\u001b[0;34m\u001b[0m\u001b[0m\n\u001b[0m\u001b[1;32m   1484\u001b[0m         \u001b[0mself\u001b[0m\u001b[0;34m.\u001b[0m\u001b[0mreset_metrics\u001b[0m\u001b[0;34m(\u001b[0m\u001b[0;34m)\u001b[0m\u001b[0;34m\u001b[0m\u001b[0;34m\u001b[0m\u001b[0m\n\u001b[1;32m   1485\u001b[0m         \u001b[0;32mwith\u001b[0m \u001b[0mdata_handler\u001b[0m\u001b[0;34m.\u001b[0m\u001b[0mcatch_stop_iteration\u001b[0m\u001b[0;34m(\u001b[0m\u001b[0;34m)\u001b[0m\u001b[0;34m:\u001b[0m\u001b[0;34m\u001b[0m\u001b[0;34m\u001b[0m\u001b[0m\n",
      "\u001b[0;32m~/.pyenv/versions/lewagon/lib/python3.8/site-packages/tensorflow/python/keras/engine/data_adapter.py\u001b[0m in \u001b[0;36menumerate_epochs\u001b[0;34m(self)\u001b[0m\n\u001b[1;32m   1197\u001b[0m     \u001b[0;34m\"\"\"Yields `(epoch, tf.data.Iterator)`.\"\"\"\u001b[0m\u001b[0;34m\u001b[0m\u001b[0;34m\u001b[0m\u001b[0m\n\u001b[1;32m   1198\u001b[0m     \u001b[0;32mwith\u001b[0m \u001b[0mself\u001b[0m\u001b[0;34m.\u001b[0m\u001b[0m_truncate_execution_to_epoch\u001b[0m\u001b[0;34m(\u001b[0m\u001b[0;34m)\u001b[0m\u001b[0;34m:\u001b[0m\u001b[0;34m\u001b[0m\u001b[0;34m\u001b[0m\u001b[0m\n\u001b[0;32m-> 1199\u001b[0;31m       \u001b[0mdata_iterator\u001b[0m \u001b[0;34m=\u001b[0m \u001b[0miter\u001b[0m\u001b[0;34m(\u001b[0m\u001b[0mself\u001b[0m\u001b[0;34m.\u001b[0m\u001b[0m_dataset\u001b[0m\u001b[0;34m)\u001b[0m\u001b[0;34m\u001b[0m\u001b[0;34m\u001b[0m\u001b[0m\n\u001b[0m\u001b[1;32m   1200\u001b[0m       \u001b[0;32mfor\u001b[0m \u001b[0mepoch\u001b[0m \u001b[0;32min\u001b[0m \u001b[0mrange\u001b[0m\u001b[0;34m(\u001b[0m\u001b[0mself\u001b[0m\u001b[0;34m.\u001b[0m\u001b[0m_initial_epoch\u001b[0m\u001b[0;34m,\u001b[0m \u001b[0mself\u001b[0m\u001b[0;34m.\u001b[0m\u001b[0m_epochs\u001b[0m\u001b[0;34m)\u001b[0m\u001b[0;34m:\u001b[0m\u001b[0;34m\u001b[0m\u001b[0;34m\u001b[0m\u001b[0m\n\u001b[1;32m   1201\u001b[0m         \u001b[0;32mif\u001b[0m \u001b[0mself\u001b[0m\u001b[0;34m.\u001b[0m\u001b[0m_insufficient_data\u001b[0m\u001b[0;34m:\u001b[0m  \u001b[0;31m# Set by `catch_stop_iteration`.\u001b[0m\u001b[0;34m\u001b[0m\u001b[0;34m\u001b[0m\u001b[0m\n",
      "\u001b[0;32m~/.pyenv/versions/lewagon/lib/python3.8/site-packages/tensorflow/python/data/ops/dataset_ops.py\u001b[0m in \u001b[0;36m__iter__\u001b[0;34m(self)\u001b[0m\n\u001b[1;32m    484\u001b[0m     \u001b[0;32mif\u001b[0m \u001b[0mcontext\u001b[0m\u001b[0;34m.\u001b[0m\u001b[0mexecuting_eagerly\u001b[0m\u001b[0;34m(\u001b[0m\u001b[0;34m)\u001b[0m \u001b[0;32mor\u001b[0m \u001b[0mops\u001b[0m\u001b[0;34m.\u001b[0m\u001b[0minside_function\u001b[0m\u001b[0;34m(\u001b[0m\u001b[0;34m)\u001b[0m\u001b[0;34m:\u001b[0m\u001b[0;34m\u001b[0m\u001b[0;34m\u001b[0m\u001b[0m\n\u001b[1;32m    485\u001b[0m       \u001b[0;32mwith\u001b[0m \u001b[0mops\u001b[0m\u001b[0;34m.\u001b[0m\u001b[0mcolocate_with\u001b[0m\u001b[0;34m(\u001b[0m\u001b[0mself\u001b[0m\u001b[0;34m.\u001b[0m\u001b[0m_variant_tensor\u001b[0m\u001b[0;34m)\u001b[0m\u001b[0;34m:\u001b[0m\u001b[0;34m\u001b[0m\u001b[0;34m\u001b[0m\u001b[0m\n\u001b[0;32m--> 486\u001b[0;31m         \u001b[0;32mreturn\u001b[0m \u001b[0miterator_ops\u001b[0m\u001b[0;34m.\u001b[0m\u001b[0mOwnedIterator\u001b[0m\u001b[0;34m(\u001b[0m\u001b[0mself\u001b[0m\u001b[0;34m)\u001b[0m\u001b[0;34m\u001b[0m\u001b[0;34m\u001b[0m\u001b[0m\n\u001b[0m\u001b[1;32m    487\u001b[0m     \u001b[0;32melse\u001b[0m\u001b[0;34m:\u001b[0m\u001b[0;34m\u001b[0m\u001b[0;34m\u001b[0m\u001b[0m\n\u001b[1;32m    488\u001b[0m       raise RuntimeError(\"__iter__() is only supported inside of tf.function \"\n",
      "\u001b[0;32m~/.pyenv/versions/lewagon/lib/python3.8/site-packages/tensorflow/python/data/ops/iterator_ops.py\u001b[0m in \u001b[0;36m__init__\u001b[0;34m(self, dataset, components, element_spec)\u001b[0m\n\u001b[1;32m    694\u001b[0m       \u001b[0;32mif\u001b[0m \u001b[0;34m(\u001b[0m\u001b[0mcomponents\u001b[0m \u001b[0;32mis\u001b[0m \u001b[0;32mnot\u001b[0m \u001b[0;32mNone\u001b[0m \u001b[0;32mor\u001b[0m \u001b[0melement_spec\u001b[0m \u001b[0;32mis\u001b[0m \u001b[0;32mnot\u001b[0m \u001b[0;32mNone\u001b[0m\u001b[0;34m)\u001b[0m\u001b[0;34m:\u001b[0m\u001b[0;34m\u001b[0m\u001b[0;34m\u001b[0m\u001b[0m\n\u001b[1;32m    695\u001b[0m         \u001b[0;32mraise\u001b[0m \u001b[0mValueError\u001b[0m\u001b[0;34m(\u001b[0m\u001b[0merror_message\u001b[0m\u001b[0;34m)\u001b[0m\u001b[0;34m\u001b[0m\u001b[0;34m\u001b[0m\u001b[0m\n\u001b[0;32m--> 696\u001b[0;31m       \u001b[0mself\u001b[0m\u001b[0;34m.\u001b[0m\u001b[0m_create_iterator\u001b[0m\u001b[0;34m(\u001b[0m\u001b[0mdataset\u001b[0m\u001b[0;34m)\u001b[0m\u001b[0;34m\u001b[0m\u001b[0;34m\u001b[0m\u001b[0m\n\u001b[0m\u001b[1;32m    697\u001b[0m \u001b[0;34m\u001b[0m\u001b[0m\n\u001b[1;32m    698\u001b[0m   \u001b[0;32mdef\u001b[0m \u001b[0m_create_iterator\u001b[0m\u001b[0;34m(\u001b[0m\u001b[0mself\u001b[0m\u001b[0;34m,\u001b[0m \u001b[0mdataset\u001b[0m\u001b[0;34m)\u001b[0m\u001b[0;34m:\u001b[0m\u001b[0;34m\u001b[0m\u001b[0;34m\u001b[0m\u001b[0m\n",
      "\u001b[0;32m~/.pyenv/versions/lewagon/lib/python3.8/site-packages/tensorflow/python/data/ops/iterator_ops.py\u001b[0m in \u001b[0;36m_create_iterator\u001b[0;34m(self, dataset)\u001b[0m\n\u001b[1;32m    717\u001b[0m               \u001b[0moutput_types\u001b[0m\u001b[0;34m=\u001b[0m\u001b[0mself\u001b[0m\u001b[0;34m.\u001b[0m\u001b[0m_flat_output_types\u001b[0m\u001b[0;34m,\u001b[0m\u001b[0;34m\u001b[0m\u001b[0;34m\u001b[0m\u001b[0m\n\u001b[1;32m    718\u001b[0m               output_shapes=self._flat_output_shapes))\n\u001b[0;32m--> 719\u001b[0;31m       \u001b[0mgen_dataset_ops\u001b[0m\u001b[0;34m.\u001b[0m\u001b[0mmake_iterator\u001b[0m\u001b[0;34m(\u001b[0m\u001b[0mds_variant\u001b[0m\u001b[0;34m,\u001b[0m \u001b[0mself\u001b[0m\u001b[0;34m.\u001b[0m\u001b[0m_iterator_resource\u001b[0m\u001b[0;34m)\u001b[0m\u001b[0;34m\u001b[0m\u001b[0;34m\u001b[0m\u001b[0m\n\u001b[0m\u001b[1;32m    720\u001b[0m       \u001b[0;31m# Delete the resource when this object is deleted\u001b[0m\u001b[0;34m\u001b[0m\u001b[0;34m\u001b[0m\u001b[0;34m\u001b[0m\u001b[0m\n\u001b[1;32m    721\u001b[0m       self._resource_deleter = IteratorResourceDeleter(\n",
      "\u001b[0;32m~/.pyenv/versions/lewagon/lib/python3.8/site-packages/tensorflow/python/ops/gen_dataset_ops.py\u001b[0m in \u001b[0;36mmake_iterator\u001b[0;34m(dataset, iterator, name)\u001b[0m\n\u001b[1;32m   3118\u001b[0m   \u001b[0;32mif\u001b[0m \u001b[0mtld\u001b[0m\u001b[0;34m.\u001b[0m\u001b[0mis_eager\u001b[0m\u001b[0;34m:\u001b[0m\u001b[0;34m\u001b[0m\u001b[0;34m\u001b[0m\u001b[0m\n\u001b[1;32m   3119\u001b[0m     \u001b[0;32mtry\u001b[0m\u001b[0;34m:\u001b[0m\u001b[0;34m\u001b[0m\u001b[0;34m\u001b[0m\u001b[0m\n\u001b[0;32m-> 3120\u001b[0;31m       _result = pywrap_tfe.TFE_Py_FastPathExecute(\n\u001b[0m\u001b[1;32m   3121\u001b[0m         _ctx, \"MakeIterator\", name, dataset, iterator)\n\u001b[1;32m   3122\u001b[0m       \u001b[0;32mreturn\u001b[0m \u001b[0m_result\u001b[0m\u001b[0;34m\u001b[0m\u001b[0;34m\u001b[0m\u001b[0m\n",
      "\u001b[0;31mKeyboardInterrupt\u001b[0m: "
     ]
    }
   ],
   "source": [
    "# Impor tensorflow early stopping callback to prevent overfitting\n",
    "from tensorflow.keras.callbacks import EarlyStopping\n",
    "\n",
    "# Define the mode@l\n",
    "model_mean_v1 = init_model()\n",
    "#Define early stopping parmaters\n",
    "es = EarlyStopping(patience=600, restore_best_weights=True,monitor='val_loss')\n",
    "\n",
    "#Start training the neural network\n",
    "history_mean_v1 = model_mean_v1.fit(X_train, y_train, \n",
    "          epochs=2000, \n",
    "          batch_size=1, \n",
    "          verbose=1, \n",
    "          callbacks=es,\n",
    "          validation_split=0.15)"
   ]
  },
  {
   "cell_type": "code",
   "execution_count": null,
   "metadata": {},
   "outputs": [],
   "source": []
  },
  {
   "cell_type": "code",
   "execution_count": 56,
   "metadata": {},
   "outputs": [
    {
     "name": "stdout",
     "output_type": "stream",
     "text": [
      "              precision    recall  f1-score   support\n",
      "\n",
      "           0       0.80      0.87      0.83       107\n",
      "           1       0.78      0.68      0.73        72\n",
      "\n",
      "    accuracy                           0.79       179\n",
      "   macro avg       0.79      0.77      0.78       179\n",
      "weighted avg       0.79      0.79      0.79       179\n",
      "\n"
     ]
    },
    {
     "data": {
      "image/png": "[encoded data removed]",
      "text/plain": [
       "<Figure size 1080x288 with 3 Axes>"
      ]
     },
     "metadata": {
      "needs_background": "light"
     },
     "output_type": "display_data"
    }
   ],
   "source": [
    "plot_get_conf_learning(model_mean_v1,history_mean_v1,X_test, y_test)"
   ]
  },
  {
   "cell_type": "code",
   "execution_count": 57,
   "metadata": {},
   "outputs": [
    {
     "data": {
      "text/html": [
       "<div>\n",
       "<style scoped>\n",
       "    .dataframe tbody tr th:only-of-type {\n",
       "        vertical-align: middle;\n",
       "    }\n",
       "\n",
       "    .dataframe tbody tr th {\n",
       "        vertical-align: top;\n",
       "    }\n",
       "\n",
       "    .dataframe thead th {\n",
       "        text-align: right;\n",
       "    }\n",
       "</style>\n",
       "<table border=\"1\" class=\"dataframe\">\n",
       "  <thead>\n",
       "    <tr style=\"text-align: right;\">\n",
       "      <th></th>\n",
       "      <th>Fare</th>\n",
       "      <th>Age</th>\n",
       "      <th>SibSp</th>\n",
       "      <th>Parch</th>\n",
       "      <th>In_cabin</th>\n",
       "      <th>0</th>\n",
       "      <th>1</th>\n",
       "      <th>2</th>\n",
       "      <th>3</th>\n",
       "      <th>4</th>\n",
       "      <th>5</th>\n",
       "      <th>6</th>\n",
       "      <th>7</th>\n",
       "      <th>8</th>\n",
       "      <th>9</th>\n",
       "      <th>10</th>\n",
       "      <th>11</th>\n",
       "      <th>12</th>\n",
       "      <th>13</th>\n",
       "      <th>14</th>\n",
       "    </tr>\n",
       "  </thead>\n",
       "  <tbody>\n",
       "    <tr>\n",
       "      <th>138</th>\n",
       "      <td>-0.228811</td>\n",
       "      <td>-1.078074e+00</td>\n",
       "      <td>-0.462861</td>\n",
       "      <td>-0.468782</td>\n",
       "      <td>0</td>\n",
       "      <td>0.0</td>\n",
       "      <td>0.0</td>\n",
       "      <td>1.0</td>\n",
       "      <td>0.0</td>\n",
       "      <td>0.0</td>\n",
       "      <td>0.0</td>\n",
       "      <td>1.0</td>\n",
       "      <td>0.0</td>\n",
       "      <td>0.0</td>\n",
       "      <td>0.0</td>\n",
       "      <td>0.0</td>\n",
       "      <td>0.0</td>\n",
       "      <td>0.0</td>\n",
       "      <td>1.0</td>\n",
       "      <td>0.0</td>\n",
       "    </tr>\n",
       "    <tr>\n",
       "      <th>793</th>\n",
       "      <td>0.719361</td>\n",
       "      <td>-2.270344e-16</td>\n",
       "      <td>-0.462861</td>\n",
       "      <td>-0.468782</td>\n",
       "      <td>0</td>\n",
       "      <td>1.0</td>\n",
       "      <td>0.0</td>\n",
       "      <td>0.0</td>\n",
       "      <td>0.0</td>\n",
       "      <td>0.0</td>\n",
       "      <td>0.0</td>\n",
       "      <td>1.0</td>\n",
       "      <td>0.0</td>\n",
       "      <td>0.0</td>\n",
       "      <td>0.0</td>\n",
       "      <td>0.0</td>\n",
       "      <td>1.0</td>\n",
       "      <td>0.0</td>\n",
       "      <td>0.0</td>\n",
       "      <td>0.0</td>\n",
       "    </tr>\n",
       "    <tr>\n",
       "      <th>609</th>\n",
       "      <td>6.138771</td>\n",
       "      <td>8.062639e-01</td>\n",
       "      <td>-0.462861</td>\n",
       "      <td>-0.468782</td>\n",
       "      <td>1</td>\n",
       "      <td>1.0</td>\n",
       "      <td>0.0</td>\n",
       "      <td>0.0</td>\n",
       "      <td>0.0</td>\n",
       "      <td>0.0</td>\n",
       "      <td>1.0</td>\n",
       "      <td>0.0</td>\n",
       "      <td>0.0</td>\n",
       "      <td>0.0</td>\n",
       "      <td>0.0</td>\n",
       "      <td>0.0</td>\n",
       "      <td>0.0</td>\n",
       "      <td>0.0</td>\n",
       "      <td>1.0</td>\n",
       "      <td>0.0</td>\n",
       "    </tr>\n",
       "    <tr>\n",
       "      <th>3</th>\n",
       "      <td>1.708372</td>\n",
       "      <td>4.136934e-01</td>\n",
       "      <td>0.432675</td>\n",
       "      <td>-0.468782</td>\n",
       "      <td>1</td>\n",
       "      <td>1.0</td>\n",
       "      <td>0.0</td>\n",
       "      <td>0.0</td>\n",
       "      <td>0.0</td>\n",
       "      <td>0.0</td>\n",
       "      <td>0.0</td>\n",
       "      <td>0.0</td>\n",
       "      <td>1.0</td>\n",
       "      <td>0.0</td>\n",
       "      <td>0.0</td>\n",
       "      <td>0.0</td>\n",
       "      <td>0.0</td>\n",
       "      <td>0.0</td>\n",
       "      <td>1.0</td>\n",
       "      <td>0.0</td>\n",
       "    </tr>\n",
       "    <tr>\n",
       "      <th>278</th>\n",
       "      <td>0.650020</td>\n",
       "      <td>-1.784701e+00</td>\n",
       "      <td>3.119282</td>\n",
       "      <td>0.753829</td>\n",
       "      <td>0</td>\n",
       "      <td>0.0</td>\n",
       "      <td>0.0</td>\n",
       "      <td>1.0</td>\n",
       "      <td>0.0</td>\n",
       "      <td>1.0</td>\n",
       "      <td>0.0</td>\n",
       "      <td>0.0</td>\n",
       "      <td>0.0</td>\n",
       "      <td>0.0</td>\n",
       "      <td>0.0</td>\n",
       "      <td>0.0</td>\n",
       "      <td>0.0</td>\n",
       "      <td>1.0</td>\n",
       "      <td>0.0</td>\n",
       "      <td>0.0</td>\n",
       "    </tr>\n",
       "    <tr>\n",
       "      <th>...</th>\n",
       "      <td>...</td>\n",
       "      <td>...</td>\n",
       "      <td>...</td>\n",
       "      <td>...</td>\n",
       "      <td>...</td>\n",
       "      <td>...</td>\n",
       "      <td>...</td>\n",
       "      <td>...</td>\n",
       "      <td>...</td>\n",
       "      <td>...</td>\n",
       "      <td>...</td>\n",
       "      <td>...</td>\n",
       "      <td>...</td>\n",
       "      <td>...</td>\n",
       "      <td>...</td>\n",
       "      <td>...</td>\n",
       "      <td>...</td>\n",
       "      <td>...</td>\n",
       "      <td>...</td>\n",
       "      <td>...</td>\n",
       "    </tr>\n",
       "    <tr>\n",
       "      <th>381</th>\n",
       "      <td>0.059228</td>\n",
       "      <td>-2.255786e+00</td>\n",
       "      <td>-0.462861</td>\n",
       "      <td>1.976441</td>\n",
       "      <td>0</td>\n",
       "      <td>0.0</td>\n",
       "      <td>0.0</td>\n",
       "      <td>1.0</td>\n",
       "      <td>0.0</td>\n",
       "      <td>0.0</td>\n",
       "      <td>1.0</td>\n",
       "      <td>0.0</td>\n",
       "      <td>0.0</td>\n",
       "      <td>0.0</td>\n",
       "      <td>0.0</td>\n",
       "      <td>0.0</td>\n",
       "      <td>1.0</td>\n",
       "      <td>0.0</td>\n",
       "      <td>0.0</td>\n",
       "      <td>0.0</td>\n",
       "    </tr>\n",
       "    <tr>\n",
       "      <th>451</th>\n",
       "      <td>0.245736</td>\n",
       "      <td>-2.270344e-16</td>\n",
       "      <td>0.432675</td>\n",
       "      <td>-0.468782</td>\n",
       "      <td>0</td>\n",
       "      <td>0.0</td>\n",
       "      <td>0.0</td>\n",
       "      <td>1.0</td>\n",
       "      <td>0.0</td>\n",
       "      <td>0.0</td>\n",
       "      <td>0.0</td>\n",
       "      <td>1.0</td>\n",
       "      <td>0.0</td>\n",
       "      <td>0.0</td>\n",
       "      <td>0.0</td>\n",
       "      <td>0.0</td>\n",
       "      <td>0.0</td>\n",
       "      <td>0.0</td>\n",
       "      <td>1.0</td>\n",
       "      <td>0.0</td>\n",
       "    </tr>\n",
       "    <tr>\n",
       "      <th>6</th>\n",
       "      <td>1.653744</td>\n",
       "      <td>1.905461e+00</td>\n",
       "      <td>-0.462861</td>\n",
       "      <td>-0.468782</td>\n",
       "      <td>1</td>\n",
       "      <td>1.0</td>\n",
       "      <td>0.0</td>\n",
       "      <td>0.0</td>\n",
       "      <td>0.0</td>\n",
       "      <td>0.0</td>\n",
       "      <td>0.0</td>\n",
       "      <td>1.0</td>\n",
       "      <td>0.0</td>\n",
       "      <td>0.0</td>\n",
       "      <td>0.0</td>\n",
       "      <td>0.0</td>\n",
       "      <td>0.0</td>\n",
       "      <td>0.0</td>\n",
       "      <td>1.0</td>\n",
       "      <td>0.0</td>\n",
       "    </tr>\n",
       "    <tr>\n",
       "      <th>820</th>\n",
       "      <td>3.491788</td>\n",
       "      <td>1.748433e+00</td>\n",
       "      <td>0.432675</td>\n",
       "      <td>0.753829</td>\n",
       "      <td>1</td>\n",
       "      <td>1.0</td>\n",
       "      <td>0.0</td>\n",
       "      <td>0.0</td>\n",
       "      <td>0.0</td>\n",
       "      <td>0.0</td>\n",
       "      <td>0.0</td>\n",
       "      <td>0.0</td>\n",
       "      <td>1.0</td>\n",
       "      <td>0.0</td>\n",
       "      <td>0.0</td>\n",
       "      <td>0.0</td>\n",
       "      <td>0.0</td>\n",
       "      <td>0.0</td>\n",
       "      <td>1.0</td>\n",
       "      <td>0.0</td>\n",
       "    </tr>\n",
       "    <tr>\n",
       "      <th>251</th>\n",
       "      <td>-0.173817</td>\n",
       "      <td>-5.739118e-02</td>\n",
       "      <td>0.432675</td>\n",
       "      <td>0.753829</td>\n",
       "      <td>1</td>\n",
       "      <td>0.0</td>\n",
       "      <td>0.0</td>\n",
       "      <td>1.0</td>\n",
       "      <td>0.0</td>\n",
       "      <td>0.0</td>\n",
       "      <td>0.0</td>\n",
       "      <td>0.0</td>\n",
       "      <td>1.0</td>\n",
       "      <td>0.0</td>\n",
       "      <td>0.0</td>\n",
       "      <td>0.0</td>\n",
       "      <td>0.0</td>\n",
       "      <td>0.0</td>\n",
       "      <td>1.0</td>\n",
       "      <td>0.0</td>\n",
       "    </tr>\n",
       "  </tbody>\n",
       "</table>\n",
       "<p>712 rows × 20 columns</p>\n",
       "</div>"
      ],
      "text/plain": [
       "         Fare           Age     SibSp     Parch  In_cabin    0    1    2    3  \\\n",
       "138 -0.228811 -1.078074e+00 -0.462861 -0.468782         0  0.0  0.0  1.0  0.0   \n",
       "793  0.719361 -2.270344e-16 -0.462861 -0.468782         0  1.0  0.0  0.0  0.0   \n",
       "609  6.138771  8.062639e-01 -0.462861 -0.468782         1  1.0  0.0  0.0  0.0   \n",
       "3    1.708372  4.136934e-01  0.432675 -0.468782         1  1.0  0.0  0.0  0.0   \n",
       "278  0.650020 -1.784701e+00  3.119282  0.753829         0  0.0  0.0  1.0  0.0   \n",
       "..        ...           ...       ...       ...       ...  ...  ...  ...  ...   \n",
       "381  0.059228 -2.255786e+00 -0.462861  1.976441         0  0.0  0.0  1.0  0.0   \n",
       "451  0.245736 -2.270344e-16  0.432675 -0.468782         0  0.0  0.0  1.0  0.0   \n",
       "6    1.653744  1.905461e+00 -0.462861 -0.468782         1  1.0  0.0  0.0  0.0   \n",
       "820  3.491788  1.748433e+00  0.432675  0.753829         1  1.0  0.0  0.0  0.0   \n",
       "251 -0.173817 -5.739118e-02  0.432675  0.753829         1  0.0  0.0  1.0  0.0   \n",
       "\n",
       "       4    5    6    7    8    9   10   11   12   13   14  \n",
       "138  0.0  0.0  1.0  0.0  0.0  0.0  0.0  0.0  0.0  1.0  0.0  \n",
       "793  0.0  0.0  1.0  0.0  0.0  0.0  0.0  1.0  0.0  0.0  0.0  \n",
       "609  0.0  1.0  0.0  0.0  0.0  0.0  0.0  0.0  0.0  1.0  0.0  \n",
       "3    0.0  0.0  0.0  1.0  0.0  0.0  0.0  0.0  0.0  1.0  0.0  \n",
       "278  1.0  0.0  0.0  0.0  0.0  0.0  0.0  0.0  1.0  0.0  0.0  \n",
       "..   ...  ...  ...  ...  ...  ...  ...  ...  ...  ...  ...  \n",
       "381  0.0  1.0  0.0  0.0  0.0  0.0  0.0  1.0  0.0  0.0  0.0  \n",
       "451  0.0  0.0  1.0  0.0  0.0  0.0  0.0  0.0  0.0  1.0  0.0  \n",
       "6    0.0  0.0  1.0  0.0  0.0  0.0  0.0  0.0  0.0  1.0  0.0  \n",
       "820  0.0  0.0  0.0  1.0  0.0  0.0  0.0  0.0  0.0  1.0  0.0  \n",
       "251  0.0  0.0  0.0  1.0  0.0  0.0  0.0  0.0  0.0  1.0  0.0  \n",
       "\n",
       "[712 rows x 20 columns]"
      ]
     },
     "execution_count": 57,
     "metadata": {},
     "output_type": "execute_result"
    }
   ],
   "source": [
    "X_train"
   ]
  },
  {
   "cell_type": "markdown",
   "metadata": {},
   "source": [
    "## Decision tree classifier model"
   ]
  },
  {
   "cell_type": "code",
   "execution_count": 101,
   "metadata": {},
   "outputs": [
    {
     "data": {
      "text/plain": [
       "0.7078651685393258"
      ]
     },
     "execution_count": 101,
     "metadata": {},
     "output_type": "execute_result"
    }
   ],
   "source": [
    "from sklearn.tree import DecisionTreeClassifier\n",
    "tree_clf = DecisionTreeClassifier(max_depth=2, random_state=2)\n",
    "tree_clf.fit(X_train,y_train)\n",
    "tree_clf.score(X_test, y_test)"
   ]
  },
  {
   "cell_type": "code",
   "execution_count": 102,
   "metadata": {},
   "outputs": [
    {
     "data": {
      "text/plain": [
       "0.700374531835206"
      ]
     },
     "execution_count": 102,
     "metadata": {},
     "output_type": "execute_result"
    }
   ],
   "source": [
    "from sklearn.ensemble import GradientBoostingClassifier\n",
    "clf = GradientBoostingClassifier(n_estimators=42, learning_rate=1,\n",
    "     max_depth=2, random_state=4\n",
    "     ).fit(X_train, y_train)\n",
    "clf.score(X_test, y_test)\n"
   ]
  },
  {
   "cell_type": "code",
   "execution_count": 103,
   "metadata": {},
   "outputs": [
    {
     "data": {
      "text/plain": [
       "0.704119850187266"
      ]
     },
     "execution_count": 103,
     "metadata": {},
     "output_type": "execute_result"
    }
   ],
   "source": [
    "from sklearn.linear_model import SGDClassifier\n",
    "svc_bis = SGDClassifier(loss='hinge', penalty='l2')\n",
    "svc_bis.fit(X_train, y_train)\n",
    "svc_bis.score(X_test, y_test)"
   ]
  },
  {
   "cell_type": "code",
   "execution_count": null,
   "metadata": {},
   "outputs": [],
   "source": [
    "0.8483108440854921\n",
    "{'learning_rate': 1, 'max_depth': 2, 'n_estimators': 42}"
   ]
  },
  {
   "cell_type": "code",
   "execution_count": 104,
   "metadata": {},
   "outputs": [],
   "source": [
    "from sklearn.model_selection import GridSearchCV\n",
    "\n",
    "# Train/Test split\n",
    "# X_train, X_test, y_train, y_test = train_test_split(X, y, test_size=0.20, random_state=1)\n",
    "\n",
    "# Instanciate model\n",
    "model = GradientBoostingClassifier()\n",
    "# Hyperparameter Grid\n",
    "n_estimators = [i for i  in range(2,50,5)]\n",
    "max_depth =[i for i  in range(2,50,5)]\n",
    "\n",
    "grid = {'n_estimators': n_estimators, \n",
    "        'learning_rate': [0.1,0.3,0.5,0.8,1,2],\n",
    "        'max_depth':max_depth\n",
    "        }\n",
    "\n",
    "# Instanciate Grid Search\n",
    "search = GridSearchCV(model, grid, \n",
    "                           scoring = 'accuracy',\n",
    "                           cv = 5,\n",
    "                           n_jobs=-1 # paralellize computation\n",
    "                          ) \n",
    "\n",
    "# Fit data to Grid Search\n",
    "search.fit(X_train,y_train);"
   ]
  },
  {
   "cell_type": "code",
   "execution_count": 105,
   "metadata": {},
   "outputs": [
    {
     "name": "stdout",
     "output_type": "stream",
     "text": [
      "0.8274193548387097\n",
      "{'learning_rate': 0.8, 'max_depth': 2, 'n_estimators': 47}\n",
      "GradientBoostingClassifier(learning_rate=0.8, max_depth=2, n_estimators=47)\n"
     ]
    }
   ],
   "source": [
    "# Best score\n",
    "print(search.best_score_)\n",
    "\n",
    "# Best Params\n",
    "print(search.best_params_)\n",
    "\n",
    "# Best estimator\n",
    "print(search.best_estimator_)"
   ]
  }
 ],
 "metadata": {
  "kernelspec": {
   "display_name": "Python 3.8.12 64-bit ('shims')",
   "language": "python",
   "name": "python3"
  },
  "language_info": {
   "codemirror_mode": {
    "name": "ipython",
    "version": 3
   },
   "file_extension": ".py",
   "mimetype": "text/x-python",
   "name": "python",
   "nbconvert_exporter": "python",
   "pygments_lexer": "ipython3",
   "version": "3.8.12"
  },
  "orig_nbformat": 4,
  "vscode": {
   "interpreter": {
    "hash": "674b29e02aed6069c673b40bc1126bd605e56d42afb236042fcfacc9189f2763"
   }
  }
 },
 "nbformat": 4,
 "nbformat_minor": 2
}
